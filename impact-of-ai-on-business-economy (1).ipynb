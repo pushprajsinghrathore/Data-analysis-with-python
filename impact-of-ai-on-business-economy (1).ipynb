{
 "cells": [
  {
   "cell_type": "markdown",
   "id": "4d38e9a5",
   "metadata": {
    "papermill": {
     "duration": 0.00768,
     "end_time": "2023-11-16T07:37:43.935367",
     "exception": false,
     "start_time": "2023-11-16T07:37:43.927687",
     "status": "completed"
    },
    "tags": []
   },
   "source": [
    "# AI Tools Dataset 🪄⚙️🔩\n",
    " **Dataset Description:**\n",
    "The \"5000 AI Tools Dataset\" is a comprehensive collection of artificial intelligence (AI) tools curated to assist data enthusiasts, researchers, and professionals in the field of machine learning and data science. This dataset contains valuable information about a wide range of AI tools, including their names, descriptions, pricing models, recommended use cases, charges (if applicable), user reviews, tool links, and major categories. \n",
    "\n",
    "## Data Fields\n",
    "\n",
    "- AI Tool Name: The name of the AI tool or software.\n",
    "- Description: A brief description of the tool's features and capabilities.\n",
    "- Free/Paid/Other: Indicates whether the tool is available for free, has a paid subscription model, or falls under another pricing category.\n",
    "- Useable For: Describes the primary use cases or applications for which the AI tool is suitable.\n",
    "- Charges: Specifies the cost or pricing structure associated with the tool (if applicable).\n",
    "- Review: User-generated reviews and ratings to provide insights into the tool's performance and user satisfaction.\n",
    "- Tool Link: URL or link to access the AI tool's official website or download page.\n",
    "- Major Category: Categorizes the AI tools into broader domains or categories, such as natural language processing (NLP), computer vision, data analytics, and more."
   ]
  },
  {
   "cell_type": "code",
   "execution_count": 1,
   "id": "55ba37d0",
   "metadata": {
    "execution": {
     "iopub.execute_input": "2023-11-16T07:37:43.953034Z",
     "iopub.status.busy": "2023-11-16T07:37:43.951648Z",
     "iopub.status.idle": "2023-11-16T07:37:47.442224Z",
     "shell.execute_reply": "2023-11-16T07:37:47.441155Z"
    },
    "papermill": {
     "duration": 3.502109,
     "end_time": "2023-11-16T07:37:47.444872",
     "exception": false,
     "start_time": "2023-11-16T07:37:43.942763",
     "status": "completed"
    },
    "tags": []
   },
   "outputs": [],
   "source": [
    "import numpy as np\n",
    "import pandas as pd\n",
    "import matplotlib.pyplot as plt\n",
    "import seaborn as sns\n",
    "from scipy import stats\n",
    "import missingno as msno\n",
    "import networkx as nx\n",
    "import re\n",
    "from sklearn.feature_extraction.text import TfidfVectorizer\n",
    "from sklearn.metrics.pairwise import cosine_similarity\n",
    "%matplotlib inline"
   ]
  },
  {
   "cell_type": "code",
   "execution_count": 2,
   "id": "c81b30f2",
   "metadata": {
    "execution": {
     "iopub.execute_input": "2023-11-16T07:37:47.461886Z",
     "iopub.status.busy": "2023-11-16T07:37:47.461058Z",
     "iopub.status.idle": "2023-11-16T07:37:47.554107Z",
     "shell.execute_reply": "2023-11-16T07:37:47.553008Z"
    },
    "papermill": {
     "duration": 0.104855,
     "end_time": "2023-11-16T07:37:47.557155",
     "exception": false,
     "start_time": "2023-11-16T07:37:47.452300",
     "status": "completed"
    },
    "tags": []
   },
   "outputs": [
    {
     "data": {
      "text/html": [
       "<div>\n",
       "<style scoped>\n",
       "    .dataframe tbody tr th:only-of-type {\n",
       "        vertical-align: middle;\n",
       "    }\n",
       "\n",
       "    .dataframe tbody tr th {\n",
       "        vertical-align: top;\n",
       "    }\n",
       "\n",
       "    .dataframe thead th {\n",
       "        text-align: right;\n",
       "    }\n",
       "</style>\n",
       "<table border=\"1\" class=\"dataframe\">\n",
       "  <thead>\n",
       "    <tr style=\"text-align: right;\">\n",
       "      <th></th>\n",
       "      <th>AI Tool Name</th>\n",
       "      <th>Description</th>\n",
       "      <th>Free/Paid/Other</th>\n",
       "      <th>Useable For</th>\n",
       "      <th>Charges</th>\n",
       "      <th>Review</th>\n",
       "      <th>Tool Link</th>\n",
       "      <th>Major Category</th>\n",
       "    </tr>\n",
       "  </thead>\n",
       "  <tbody>\n",
       "    <tr>\n",
       "      <th>0</th>\n",
       "      <td>Farm3D</td>\n",
       "      <td>Learning Articulated 3D Animals by Distilling ...</td>\n",
       "      <td>Free</td>\n",
       "      <td>/ experiments    / 3D</td>\n",
       "      <td>NaN</td>\n",
       "      <td>NaN</td>\n",
       "      <td>https://farm3d.github.io/?utm_source=futureped...</td>\n",
       "      <td>other</td>\n",
       "    </tr>\n",
       "    <tr>\n",
       "      <th>1</th>\n",
       "      <td>Mailbutler Ai</td>\n",
       "      <td>AI-powered Smart Assistant for Outlook, Gmail ...</td>\n",
       "      <td>Freemium</td>\n",
       "      <td>/ email assistant</td>\n",
       "      <td>$ 4.95/mo</td>\n",
       "      <td>1</td>\n",
       "      <td>https://www.mailbutler.io/smart-assistant/?utm...</td>\n",
       "      <td>text</td>\n",
       "    </tr>\n",
       "    <tr>\n",
       "      <th>2</th>\n",
       "      <td>Maverick</td>\n",
       "      <td>Send customers personalized videos at scale.</td>\n",
       "      <td>Paid</td>\n",
       "      <td>/ e-commerce    / audio editing</td>\n",
       "      <td>$ 100/mo</td>\n",
       "      <td>NaN</td>\n",
       "      <td>https://www.trymaverick.com/?utm_source=future...</td>\n",
       "      <td>audio</td>\n",
       "    </tr>\n",
       "    <tr>\n",
       "      <th>3</th>\n",
       "      <td>0Xai</td>\n",
       "      <td>Stable Diffusion Prompt And Images Generator</td>\n",
       "      <td>Free</td>\n",
       "      <td>/ image generator    / prompts</td>\n",
       "      <td>NaN</td>\n",
       "      <td>NaN</td>\n",
       "      <td>https://0xai.quest?utm_source=futurepedia&amp;utm_...</td>\n",
       "      <td>image</td>\n",
       "    </tr>\n",
       "    <tr>\n",
       "      <th>4</th>\n",
       "      <td>10Web</td>\n",
       "      <td>AI-powered WordPress platform for automated we...</td>\n",
       "      <td>Freemium</td>\n",
       "      <td>/ low-code/no-code</td>\n",
       "      <td>NaN</td>\n",
       "      <td>NaN</td>\n",
       "      <td>https://10web.io/?utm_source=futurepedia&amp;utm_m...</td>\n",
       "      <td>code</td>\n",
       "    </tr>\n",
       "    <tr>\n",
       "      <th>5</th>\n",
       "      <td>1Pm Workout</td>\n",
       "      <td>Become The Next One Punch Man!</td>\n",
       "      <td>Free</td>\n",
       "      <td>/ fitness</td>\n",
       "      <td>NaN</td>\n",
       "      <td>NaN</td>\n",
       "      <td>https://opmworkout.ml/?utm_source=futurepedia&amp;...</td>\n",
       "      <td>other</td>\n",
       "    </tr>\n",
       "    <tr>\n",
       "      <th>6</th>\n",
       "      <td>2D&amp;3D Video Converter</td>\n",
       "      <td>iDATAPP 3D Converter: Transform Your Videos in...</td>\n",
       "      <td>Free</td>\n",
       "      <td>/ 3D</td>\n",
       "      <td>NaN</td>\n",
       "      <td>NaN</td>\n",
       "      <td>https://idatapp.com/software/3d-converter?utm_...</td>\n",
       "      <td>3D</td>\n",
       "    </tr>\n",
       "    <tr>\n",
       "      <th>7</th>\n",
       "      <td>2Short.Ai</td>\n",
       "      <td>Elevate your YT content with AI generated shorts</td>\n",
       "      <td>Freemium</td>\n",
       "      <td>/ video editing    / social media assistant</td>\n",
       "      <td>$9.90</td>\n",
       "      <td>1</td>\n",
       "      <td>https://2short.ai/?utm_source=futurepedia&amp;utm_...</td>\n",
       "      <td>text</td>\n",
       "    </tr>\n",
       "    <tr>\n",
       "      <th>8</th>\n",
       "      <td>2Siq</td>\n",
       "      <td>Forward emails and get replies.</td>\n",
       "      <td>Freemium</td>\n",
       "      <td>/ email assistant</td>\n",
       "      <td>$3</td>\n",
       "      <td>NaN</td>\n",
       "      <td>https://2siq.com/?utm_source=futurepedia&amp;utm_m...</td>\n",
       "      <td>text</td>\n",
       "    </tr>\n",
       "    <tr>\n",
       "      <th>9</th>\n",
       "      <td>3Dfy</td>\n",
       "      <td>3DFY.ai is an artificial intelligence (AI) too...</td>\n",
       "      <td>Free</td>\n",
       "      <td>/ 3D</td>\n",
       "      <td>NaN</td>\n",
       "      <td>NaN</td>\n",
       "      <td>https://3dfy.ai/?utm_source=futurepedia&amp;utm_me...</td>\n",
       "      <td>3D</td>\n",
       "    </tr>\n",
       "  </tbody>\n",
       "</table>\n",
       "</div>"
      ],
      "text/plain": [
       "            AI Tool Name                                        Description  \\\n",
       "0                 Farm3D  Learning Articulated 3D Animals by Distilling ...   \n",
       "1          Mailbutler Ai  AI-powered Smart Assistant for Outlook, Gmail ...   \n",
       "2              Maverick      Send customers personalized videos at scale.     \n",
       "3                   0Xai      Stable Diffusion Prompt And Images Generator    \n",
       "4                  10Web  AI-powered WordPress platform for automated we...   \n",
       "5            1Pm Workout                     Become The Next One Punch Man!   \n",
       "6  2D&3D Video Converter  iDATAPP 3D Converter: Transform Your Videos in...   \n",
       "7              2Short.Ai   Elevate your YT content with AI generated shorts   \n",
       "8                   2Siq                    Forward emails and get replies.   \n",
       "9                   3Dfy  3DFY.ai is an artificial intelligence (AI) too...   \n",
       "\n",
       "  Free/Paid/Other                                    Useable For    Charges  \\\n",
       "0            Free                          / experiments    / 3D        NaN   \n",
       "1        Freemium                              / email assistant  $ 4.95/mo   \n",
       "2            Paid                / e-commerce    / audio editing   $ 100/mo   \n",
       "3            Free                 / image generator    / prompts        NaN   \n",
       "4        Freemium                             / low-code/no-code        NaN   \n",
       "5            Free                                      / fitness        NaN   \n",
       "6            Free                                           / 3D        NaN   \n",
       "7        Freemium    / video editing    / social media assistant     $9.90    \n",
       "8        Freemium                              / email assistant        $3    \n",
       "9            Free                                           / 3D        NaN   \n",
       "\n",
       "  Review                                          Tool Link Major Category  \n",
       "0    NaN  https://farm3d.github.io/?utm_source=futureped...          other  \n",
       "1      1  https://www.mailbutler.io/smart-assistant/?utm...           text  \n",
       "2    NaN  https://www.trymaverick.com/?utm_source=future...          audio  \n",
       "3    NaN  https://0xai.quest?utm_source=futurepedia&utm_...          image  \n",
       "4    NaN  https://10web.io/?utm_source=futurepedia&utm_m...           code  \n",
       "5    NaN  https://opmworkout.ml/?utm_source=futurepedia&...          other  \n",
       "6    NaN  https://idatapp.com/software/3d-converter?utm_...             3D  \n",
       "7      1  https://2short.ai/?utm_source=futurepedia&utm_...           text  \n",
       "8    NaN  https://2siq.com/?utm_source=futurepedia&utm_m...           text  \n",
       "9    NaN  https://3dfy.ai/?utm_source=futurepedia&utm_me...             3D  "
      ]
     },
     "execution_count": 2,
     "metadata": {},
     "output_type": "execute_result"
    }
   ],
   "source": [
    "df=pd.read_csv(\"/kaggle/input/ai-5000-tools-2023/all_ai_tool.csv\")\n",
    "df.head(10)"
   ]
  },
  {
   "cell_type": "code",
   "execution_count": 3,
   "id": "4b044faf",
   "metadata": {
    "execution": {
     "iopub.execute_input": "2023-11-16T07:37:47.574905Z",
     "iopub.status.busy": "2023-11-16T07:37:47.574337Z",
     "iopub.status.idle": "2023-11-16T07:37:47.580252Z",
     "shell.execute_reply": "2023-11-16T07:37:47.579049Z"
    },
    "papermill": {
     "duration": 0.018451,
     "end_time": "2023-11-16T07:37:47.583324",
     "exception": false,
     "start_time": "2023-11-16T07:37:47.564873",
     "status": "completed"
    },
    "tags": []
   },
   "outputs": [
    {
     "name": "stdout",
     "output_type": "stream",
     "text": [
      "Number of rows:  4969\n",
      "Number of columns:  8\n"
     ]
    }
   ],
   "source": [
    "rows,cols = df.shape\n",
    "print(\"Number of rows: \", rows)\n",
    "print(\"Number of columns: \", cols)"
   ]
  },
  {
   "cell_type": "code",
   "execution_count": 4,
   "id": "1e1ecec1",
   "metadata": {
    "execution": {
     "iopub.execute_input": "2023-11-16T07:37:47.600736Z",
     "iopub.status.busy": "2023-11-16T07:37:47.600325Z",
     "iopub.status.idle": "2023-11-16T07:37:47.629620Z",
     "shell.execute_reply": "2023-11-16T07:37:47.628393Z"
    },
    "papermill": {
     "duration": 0.041106,
     "end_time": "2023-11-16T07:37:47.632208",
     "exception": false,
     "start_time": "2023-11-16T07:37:47.591102",
     "status": "completed"
    },
    "tags": []
   },
   "outputs": [
    {
     "name": "stdout",
     "output_type": "stream",
     "text": [
      "<class 'pandas.core.frame.DataFrame'>\n",
      "RangeIndex: 4969 entries, 0 to 4968\n",
      "Data columns (total 8 columns):\n",
      " #   Column           Non-Null Count  Dtype \n",
      "---  ------           --------------  ----- \n",
      " 0   AI Tool Name     4969 non-null   object\n",
      " 1   Description      4969 non-null   object\n",
      " 2   Free/Paid/Other  4969 non-null   object\n",
      " 3   Useable For      4969 non-null   object\n",
      " 4   Charges          2534 non-null   object\n",
      " 5   Review           1462 non-null   object\n",
      " 6   Tool Link        4969 non-null   object\n",
      " 7   Major Category   4969 non-null   object\n",
      "dtypes: object(8)\n",
      "memory usage: 310.7+ KB\n"
     ]
    }
   ],
   "source": [
    "df.info()"
   ]
  },
  {
   "cell_type": "code",
   "execution_count": 5,
   "id": "51f209ef",
   "metadata": {
    "execution": {
     "iopub.execute_input": "2023-11-16T07:37:47.649953Z",
     "iopub.status.busy": "2023-11-16T07:37:47.649291Z",
     "iopub.status.idle": "2023-11-16T07:37:47.684913Z",
     "shell.execute_reply": "2023-11-16T07:37:47.683740Z"
    },
    "papermill": {
     "duration": 0.047287,
     "end_time": "2023-11-16T07:37:47.687245",
     "exception": false,
     "start_time": "2023-11-16T07:37:47.639958",
     "status": "completed"
    },
    "tags": []
   },
   "outputs": [
    {
     "data": {
      "text/html": [
       "<div>\n",
       "<style scoped>\n",
       "    .dataframe tbody tr th:only-of-type {\n",
       "        vertical-align: middle;\n",
       "    }\n",
       "\n",
       "    .dataframe tbody tr th {\n",
       "        vertical-align: top;\n",
       "    }\n",
       "\n",
       "    .dataframe thead th {\n",
       "        text-align: right;\n",
       "    }\n",
       "</style>\n",
       "<table border=\"1\" class=\"dataframe\">\n",
       "  <thead>\n",
       "    <tr style=\"text-align: right;\">\n",
       "      <th></th>\n",
       "      <th>AI Tool Name</th>\n",
       "      <th>Description</th>\n",
       "      <th>Free/Paid/Other</th>\n",
       "      <th>Useable For</th>\n",
       "      <th>Charges</th>\n",
       "      <th>Review</th>\n",
       "      <th>Tool Link</th>\n",
       "      <th>Major Category</th>\n",
       "    </tr>\n",
       "  </thead>\n",
       "  <tbody>\n",
       "    <tr>\n",
       "      <th>count</th>\n",
       "      <td>4969</td>\n",
       "      <td>4969</td>\n",
       "      <td>4969</td>\n",
       "      <td>4969</td>\n",
       "      <td>2534</td>\n",
       "      <td>1462</td>\n",
       "      <td>4969</td>\n",
       "      <td>4969</td>\n",
       "    </tr>\n",
       "    <tr>\n",
       "      <th>unique</th>\n",
       "      <td>4969</td>\n",
       "      <td>4965</td>\n",
       "      <td>19</td>\n",
       "      <td>526</td>\n",
       "      <td>557</td>\n",
       "      <td>17</td>\n",
       "      <td>4959</td>\n",
       "      <td>8</td>\n",
       "    </tr>\n",
       "    <tr>\n",
       "      <th>top</th>\n",
       "      <td>Farm3D</td>\n",
       "      <td>Understand any data instantly using AI</td>\n",
       "      <td>Free</td>\n",
       "      <td>/ productivity</td>\n",
       "      <td>$ 10/mo</td>\n",
       "      <td>1</td>\n",
       "      <td>https://www.trymaverick.com/?utm_source=future...</td>\n",
       "      <td>business</td>\n",
       "    </tr>\n",
       "    <tr>\n",
       "      <th>freq</th>\n",
       "      <td>1</td>\n",
       "      <td>2</td>\n",
       "      <td>1704</td>\n",
       "      <td>247</td>\n",
       "      <td>99</td>\n",
       "      <td>942</td>\n",
       "      <td>2</td>\n",
       "      <td>1202</td>\n",
       "    </tr>\n",
       "  </tbody>\n",
       "</table>\n",
       "</div>"
      ],
      "text/plain": [
       "       AI Tool Name                             Description Free/Paid/Other  \\\n",
       "count          4969                                    4969            4969   \n",
       "unique         4969                                    4965              19   \n",
       "top          Farm3D  Understand any data instantly using AI            Free   \n",
       "freq              1                                       2            1704   \n",
       "\n",
       "             Useable For  Charges Review  \\\n",
       "count               4969     2534   1462   \n",
       "unique               526      557     17   \n",
       "top       / productivity  $ 10/mo      1   \n",
       "freq                 247       99    942   \n",
       "\n",
       "                                                Tool Link Major Category  \n",
       "count                                                4969           4969  \n",
       "unique                                               4959              8  \n",
       "top     https://www.trymaverick.com/?utm_source=future...       business  \n",
       "freq                                                    2           1202  "
      ]
     },
     "execution_count": 5,
     "metadata": {},
     "output_type": "execute_result"
    }
   ],
   "source": [
    "df.describe()"
   ]
  },
  {
   "cell_type": "markdown",
   "id": "26865d10",
   "metadata": {
    "papermill": {
     "duration": 0.007977,
     "end_time": "2023-11-16T07:37:47.703213",
     "exception": false,
     "start_time": "2023-11-16T07:37:47.695236",
     "status": "completed"
    },
    "tags": []
   },
   "source": [
    "# Dataset Overview"
   ]
  },
  {
   "cell_type": "code",
   "execution_count": 6,
   "id": "c9c04031",
   "metadata": {
    "execution": {
     "iopub.execute_input": "2023-11-16T07:37:47.721425Z",
     "iopub.status.busy": "2023-11-16T07:37:47.720994Z",
     "iopub.status.idle": "2023-11-16T07:37:47.736982Z",
     "shell.execute_reply": "2023-11-16T07:37:47.734795Z"
    },
    "papermill": {
     "duration": 0.028085,
     "end_time": "2023-11-16T07:37:47.739507",
     "exception": false,
     "start_time": "2023-11-16T07:37:47.711422",
     "status": "completed"
    },
    "tags": []
   },
   "outputs": [
    {
     "data": {
      "text/plain": [
       "{'Total AI Tools': 4969,\n",
       " 'Missing Descriptions': 0,\n",
       " 'Missing Pricing Info': 0,\n",
       " 'Missing Use Cases': 0,\n",
       " 'Missing Charges Info': 2435,\n",
       " 'Missing Reviews': 3507,\n",
       " 'Missing Tool Links': 0,\n",
       " 'Missing Major Categories': 0}"
      ]
     },
     "execution_count": 6,
     "metadata": {},
     "output_type": "execute_result"
    }
   ],
   "source": [
    "# Number of tools in the dataset\n",
    "total_tools = df.shape[0]\n",
    "\n",
    "# Number of missing values for each column\n",
    "missing_values = df.isnull().sum()\n",
    "\n",
    "dataset_overview = {\n",
    "    \"Total AI Tools\": total_tools,\n",
    "    \"Missing Descriptions\": missing_values[\"Description\"],\n",
    "    \"Missing Pricing Info\": missing_values[\"Free/Paid/Other\"],\n",
    "    \"Missing Use Cases\": missing_values[\"Useable For\"],\n",
    "    \"Missing Charges Info\": missing_values[\"Charges\"],\n",
    "    \"Missing Reviews\": missing_values[\"Review\"],\n",
    "    \"Missing Tool Links\": missing_values[\"Tool Link\"],\n",
    "    \"Missing Major Categories\": missing_values[\"Major Category\"]\n",
    "}\n",
    "\n",
    "dataset_overview"
   ]
  },
  {
   "cell_type": "code",
   "execution_count": 7,
   "id": "f7c796b8",
   "metadata": {
    "execution": {
     "iopub.execute_input": "2023-11-16T07:37:47.762939Z",
     "iopub.status.busy": "2023-11-16T07:37:47.762100Z",
     "iopub.status.idle": "2023-11-16T07:37:48.677888Z",
     "shell.execute_reply": "2023-11-16T07:37:48.676711Z"
    },
    "papermill": {
     "duration": 0.932608,
     "end_time": "2023-11-16T07:37:48.681291",
     "exception": false,
     "start_time": "2023-11-16T07:37:47.748683",
     "status": "completed"
    },
    "tags": []
   },
   "outputs": [
    {
     "data": {
      "image/png": "[encoded data removed]",
      "text/plain": [
       "<Figure size 2500x1000 with 2 Axes>"
      ]
     },
     "metadata": {},
     "output_type": "display_data"
    }
   ],
   "source": [
    " # check for missing values\n",
    "msno.matrix(df);"
   ]
  },
  {
   "cell_type": "code",
   "execution_count": 8,
   "id": "e780a67a",
   "metadata": {
    "execution": {
     "iopub.execute_input": "2023-11-16T07:37:48.705937Z",
     "iopub.status.busy": "2023-11-16T07:37:48.705499Z",
     "iopub.status.idle": "2023-11-16T07:37:48.716188Z",
     "shell.execute_reply": "2023-11-16T07:37:48.714915Z"
    },
    "papermill": {
     "duration": 0.027465,
     "end_time": "2023-11-16T07:37:48.718636",
     "exception": false,
     "start_time": "2023-11-16T07:37:48.691171",
     "status": "completed"
    },
    "tags": []
   },
   "outputs": [
    {
     "name": "stdout",
     "output_type": "stream",
     "text": [
      "count        2534\n",
      "unique        557\n",
      "top       $ 10/mo\n",
      "freq           99\n",
      "Name: Charges, dtype: object\n"
     ]
    }
   ],
   "source": [
    "# Summary\n",
    "charges_summary = df['Charges'].describe()\n",
    "print(charges_summary)"
   ]
  },
  {
   "cell_type": "code",
   "execution_count": 9,
   "id": "894cecae",
   "metadata": {
    "execution": {
     "iopub.execute_input": "2023-11-16T07:37:48.739934Z",
     "iopub.status.busy": "2023-11-16T07:37:48.739516Z",
     "iopub.status.idle": "2023-11-16T07:37:48.751517Z",
     "shell.execute_reply": "2023-11-16T07:37:48.750350Z"
    },
    "papermill": {
     "duration": 0.025445,
     "end_time": "2023-11-16T07:37:48.753811",
     "exception": false,
     "start_time": "2023-11-16T07:37:48.728366",
     "status": "completed"
    },
    "tags": []
   },
   "outputs": [
    {
     "data": {
      "text/plain": [
       "Free/Paid/Other\n",
       "Free                             1704\n",
       "Freemium                         1284\n",
       "Paid                              832\n",
       "Free Trial                        771\n",
       "Contact for Pricing               325\n",
       "Freemium | Free-Trial              15\n",
       "Freemium | Deals                    8\n",
       "Free-Trial | Paid                   8\n",
       "Free-Trial | Freemium               8\n",
       "Free-Trial | Deals                  3\n",
       "Paid |Free-Trial                    3\n",
       "FreeDeals                           1\n",
       "FreeFreemium                        1\n",
       "Freemium |Contact for Pricing       1\n",
       "Freemium | Free                     1\n",
       "Paid | Deals                        1\n",
       "Free | Freemium | Paid              1\n",
       "Free | Paid                         1\n",
       "Deals                               1\n",
       "Name: count, dtype: int64"
      ]
     },
     "execution_count": 9,
     "metadata": {},
     "output_type": "execute_result"
    }
   ],
   "source": [
    "# Pricing Distribution\n",
    "pricing_distribution = df[\"Free/Paid/Other\"].value_counts()\n",
    "\n",
    "pricing_distribution"
   ]
  },
  {
   "cell_type": "code",
   "execution_count": 10,
   "id": "b153967a",
   "metadata": {
    "execution": {
     "iopub.execute_input": "2023-11-16T07:37:48.775774Z",
     "iopub.status.busy": "2023-11-16T07:37:48.774626Z",
     "iopub.status.idle": "2023-11-16T07:37:48.790316Z",
     "shell.execute_reply": "2023-11-16T07:37:48.789218Z"
    },
    "papermill": {
     "duration": 0.029136,
     "end_time": "2023-11-16T07:37:48.792714",
     "exception": false,
     "start_time": "2023-11-16T07:37:48.763578",
     "status": "completed"
    },
    "tags": []
   },
   "outputs": [
    {
     "data": {
      "text/html": [
       "<div>\n",
       "<style scoped>\n",
       "    .dataframe tbody tr th:only-of-type {\n",
       "        vertical-align: middle;\n",
       "    }\n",
       "\n",
       "    .dataframe tbody tr th {\n",
       "        vertical-align: top;\n",
       "    }\n",
       "\n",
       "    .dataframe thead th {\n",
       "        text-align: right;\n",
       "    }\n",
       "</style>\n",
       "<table border=\"1\" class=\"dataframe\">\n",
       "  <thead>\n",
       "    <tr style=\"text-align: right;\">\n",
       "      <th></th>\n",
       "      <th>AI Tool Name</th>\n",
       "      <th>Description</th>\n",
       "      <th>Free/Paid/Other</th>\n",
       "      <th>Useable For</th>\n",
       "      <th>Charges</th>\n",
       "      <th>Review</th>\n",
       "      <th>Tool Link</th>\n",
       "      <th>Major Category</th>\n",
       "    </tr>\n",
       "  </thead>\n",
       "  <tbody>\n",
       "  </tbody>\n",
       "</table>\n",
       "</div>"
      ],
      "text/plain": [
       "Empty DataFrame\n",
       "Columns: [AI Tool Name, Description, Free/Paid/Other, Useable For, Charges, Review, Tool Link, Major Category]\n",
       "Index: []"
      ]
     },
     "execution_count": 10,
     "metadata": {},
     "output_type": "execute_result"
    }
   ],
   "source": [
    "# Category Distribution\n",
    "category_distribution = df[\"Major Category\"].value_counts()\n",
    "\n",
    "category_distribution\n",
    "\n",
    "business_rows = df[df['Major Category'] == 'Business']\n",
    "\n",
    "business_rows.head(10)"
   ]
  },
  {
   "cell_type": "code",
   "execution_count": 11,
   "id": "7f5461f3",
   "metadata": {
    "execution": {
     "iopub.execute_input": "2023-11-16T07:37:48.815193Z",
     "iopub.status.busy": "2023-11-16T07:37:48.814498Z",
     "iopub.status.idle": "2023-11-16T07:37:48.824998Z",
     "shell.execute_reply": "2023-11-16T07:37:48.823521Z"
    },
    "papermill": {
     "duration": 0.024456,
     "end_time": "2023-11-16T07:37:48.827436",
     "exception": false,
     "start_time": "2023-11-16T07:37:48.802980",
     "status": "completed"
    },
    "tags": []
   },
   "outputs": [
    {
     "data": {
      "text/plain": [
       "count     1462\n",
       "unique      17\n",
       "top          1\n",
       "freq       942\n",
       "Name: Review, dtype: object"
      ]
     },
     "execution_count": 11,
     "metadata": {},
     "output_type": "execute_result"
    }
   ],
   "source": [
    "# Reviews Overview\n",
    "reviews_overview = df[\"Review\"].describe()\n",
    "\n",
    "reviews_overview"
   ]
  },
  {
   "cell_type": "code",
   "execution_count": 12,
   "id": "75372361",
   "metadata": {
    "execution": {
     "iopub.execute_input": "2023-11-16T07:37:48.850582Z",
     "iopub.status.busy": "2023-11-16T07:37:48.849941Z",
     "iopub.status.idle": "2023-11-16T07:37:48.859254Z",
     "shell.execute_reply": "2023-11-16T07:37:48.858019Z"
    },
    "papermill": {
     "duration": 0.023712,
     "end_time": "2023-11-16T07:37:48.861733",
     "exception": false,
     "start_time": "2023-11-16T07:37:48.838021",
     "status": "completed"
    },
    "tags": []
   },
   "outputs": [
    {
     "data": {
      "text/plain": [
       "Review\n",
       "1            942\n",
       "2            256\n",
       "3            108\n",
       "4             53\n",
       "6             20\n",
       "5             20\n",
       "8             17\n",
       "7             16\n",
       "9              8\n",
       "10             6\n",
       "11             4\n",
       "undefined      3\n",
       "14             3\n",
       "13             2\n",
       "15             2\n",
       "42             1\n",
       "22             1\n",
       "Name: count, dtype: int64"
      ]
     },
     "execution_count": 12,
     "metadata": {},
     "output_type": "execute_result"
    }
   ],
   "source": [
    "# Distribution of unique review values\n",
    "review_distribution = df[\"Review\"].value_counts()\n",
    "\n",
    "review_distribution"
   ]
  },
  {
   "cell_type": "code",
   "execution_count": 13,
   "id": "c0733afe",
   "metadata": {
    "execution": {
     "iopub.execute_input": "2023-11-16T07:37:48.884907Z",
     "iopub.status.busy": "2023-11-16T07:37:48.883679Z",
     "iopub.status.idle": "2023-11-16T07:37:48.903424Z",
     "shell.execute_reply": "2023-11-16T07:37:48.902154Z"
    },
    "papermill": {
     "duration": 0.033763,
     "end_time": "2023-11-16T07:37:48.905819",
     "exception": false,
     "start_time": "2023-11-16T07:37:48.872056",
     "status": "completed"
    },
    "tags": []
   },
   "outputs": [
    {
     "data": {
      "text/html": [
       "<div>\n",
       "<style scoped>\n",
       "    .dataframe tbody tr th:only-of-type {\n",
       "        vertical-align: middle;\n",
       "    }\n",
       "\n",
       "    .dataframe tbody tr th {\n",
       "        vertical-align: top;\n",
       "    }\n",
       "\n",
       "    .dataframe thead th {\n",
       "        text-align: right;\n",
       "    }\n",
       "</style>\n",
       "<table border=\"1\" class=\"dataframe\">\n",
       "  <thead>\n",
       "    <tr style=\"text-align: right;\">\n",
       "      <th></th>\n",
       "      <th>AI Tool Name</th>\n",
       "      <th>Description</th>\n",
       "      <th>Review</th>\n",
       "      <th>Major Category</th>\n",
       "      <th>Tool Link</th>\n",
       "    </tr>\n",
       "  </thead>\n",
       "  <tbody>\n",
       "    <tr>\n",
       "      <th>1854</th>\n",
       "      <td>Gocharlie Ai</td>\n",
       "      <td>A generative AI platform for content creators!</td>\n",
       "      <td>undefined</td>\n",
       "      <td>text</td>\n",
       "      <td>https://gocharlie.ai/?utm_source=futurepedia&amp;u...</td>\n",
       "    </tr>\n",
       "    <tr>\n",
       "      <th>4637</th>\n",
       "      <td>Vidyo.Ai</td>\n",
       "      <td>Create short clips from long videos, save 90% ...</td>\n",
       "      <td>undefined</td>\n",
       "      <td>video</td>\n",
       "      <td>https://vidyo.ai/?utm_source=futurepedia&amp;utm_m...</td>\n",
       "    </tr>\n",
       "    <tr>\n",
       "      <th>2666</th>\n",
       "      <td>Maverick</td>\n",
       "      <td>AI-generated personalized videos at scale</td>\n",
       "      <td>undefined</td>\n",
       "      <td>video</td>\n",
       "      <td>https://www.trymaverick.com/?utm_source=future...</td>\n",
       "    </tr>\n",
       "    <tr>\n",
       "      <th>4468</th>\n",
       "      <td>Ttsmaker</td>\n",
       "      <td>Free text-to-speech tool that offers over 100+...</td>\n",
       "      <td>9</td>\n",
       "      <td>audio</td>\n",
       "      <td>https://ttsmaker.com?utm_source=futurepedia&amp;ut...</td>\n",
       "    </tr>\n",
       "    <tr>\n",
       "      <th>4204</th>\n",
       "      <td>Syllaby</td>\n",
       "      <td>Create Your Social Media Strategy In 10 Minutes</td>\n",
       "      <td>9</td>\n",
       "      <td>text</td>\n",
       "      <td>https://www.syllaby.io?utm_source=futurepedia&amp;...</td>\n",
       "    </tr>\n",
       "    <tr>\n",
       "      <th>1907</th>\n",
       "      <td>Gptforslides</td>\n",
       "      <td>Generate Beautiful Presentations with Images, ...</td>\n",
       "      <td>9</td>\n",
       "      <td>business</td>\n",
       "      <td>https://www.gptforslides.app/?utm_source=futur...</td>\n",
       "    </tr>\n",
       "    <tr>\n",
       "      <th>1326</th>\n",
       "      <td>Docus</td>\n",
       "      <td>Providing personalized health insights, recomm...</td>\n",
       "      <td>9</td>\n",
       "      <td>other</td>\n",
       "      <td>https://docus.ai/?utm_source=futurepedia&amp;utm_m...</td>\n",
       "    </tr>\n",
       "    <tr>\n",
       "      <th>4420</th>\n",
       "      <td>Traivl</td>\n",
       "      <td>Personalized multi-destination Travel Itinerary</td>\n",
       "      <td>9</td>\n",
       "      <td>other</td>\n",
       "      <td>https://www.traivl.com/?utm_source=futurepedia...</td>\n",
       "    </tr>\n",
       "    <tr>\n",
       "      <th>4256</th>\n",
       "      <td>Tammy Ai</td>\n",
       "      <td>YouTube summaries for free. 10x your learning ...</td>\n",
       "      <td>9</td>\n",
       "      <td>business</td>\n",
       "      <td>https://tammy.ai/?utm_source=futurepedia&amp;utm_m...</td>\n",
       "    </tr>\n",
       "    <tr>\n",
       "      <th>656</th>\n",
       "      <td>Booke Ai</td>\n",
       "      <td>Streamline your bookkeeping business with AI-d...</td>\n",
       "      <td>9</td>\n",
       "      <td>business</td>\n",
       "      <td>https://booke.ai?utm_source=futurepedia&amp;utm_me...</td>\n",
       "    </tr>\n",
       "  </tbody>\n",
       "</table>\n",
       "</div>"
      ],
      "text/plain": [
       "      AI Tool Name                                        Description  \\\n",
       "1854  Gocharlie Ai    A generative AI platform for content creators!    \n",
       "4637      Vidyo.Ai  Create short clips from long videos, save 90% ...   \n",
       "2666      Maverick          AI-generated personalized videos at scale   \n",
       "4468      Ttsmaker  Free text-to-speech tool that offers over 100+...   \n",
       "4204       Syllaby    Create Your Social Media Strategy In 10 Minutes   \n",
       "1907  Gptforslides  Generate Beautiful Presentations with Images, ...   \n",
       "1326         Docus  Providing personalized health insights, recomm...   \n",
       "4420        Traivl    Personalized multi-destination Travel Itinerary   \n",
       "4256      Tammy Ai  YouTube summaries for free. 10x your learning ...   \n",
       "656       Booke Ai  Streamline your bookkeeping business with AI-d...   \n",
       "\n",
       "         Review Major Category  \\\n",
       "1854  undefined           text   \n",
       "4637  undefined          video   \n",
       "2666  undefined          video   \n",
       "4468          9          audio   \n",
       "4204          9           text   \n",
       "1907          9       business   \n",
       "1326          9          other   \n",
       "4420          9          other   \n",
       "4256          9       business   \n",
       "656           9       business   \n",
       "\n",
       "                                              Tool Link  \n",
       "1854  https://gocharlie.ai/?utm_source=futurepedia&u...  \n",
       "4637  https://vidyo.ai/?utm_source=futurepedia&utm_m...  \n",
       "2666  https://www.trymaverick.com/?utm_source=future...  \n",
       "4468  https://ttsmaker.com?utm_source=futurepedia&ut...  \n",
       "4204  https://www.syllaby.io?utm_source=futurepedia&...  \n",
       "1907  https://www.gptforslides.app/?utm_source=futur...  \n",
       "1326  https://docus.ai/?utm_source=futurepedia&utm_m...  \n",
       "4420  https://www.traivl.com/?utm_source=futurepedia...  \n",
       "4256  https://tammy.ai/?utm_source=futurepedia&utm_m...  \n",
       "656   https://booke.ai?utm_source=futurepedia&utm_me...  "
      ]
     },
     "execution_count": 13,
     "metadata": {},
     "output_type": "execute_result"
    }
   ],
   "source": [
    "# Filtering tools with reviews greater than 1 and sorting them\n",
    "top_tools_by_review = df[df[\"Review\"] > \"1\"].sort_values(by=\"Review\", ascending=False).head(10)\n",
    "\n",
    "# Selecting relevant columns for display\n",
    "top_tools_by_review = top_tools_by_review[[\"AI Tool Name\", \"Description\", \"Review\", \"Major Category\", \"Tool Link\"]]\n",
    "\n",
    "top_tools_by_review"
   ]
  },
  {
   "cell_type": "code",
   "execution_count": 14,
   "id": "88594165",
   "metadata": {
    "execution": {
     "iopub.execute_input": "2023-11-16T07:37:48.929908Z",
     "iopub.status.busy": "2023-11-16T07:37:48.928866Z",
     "iopub.status.idle": "2023-11-16T07:37:48.939221Z",
     "shell.execute_reply": "2023-11-16T07:37:48.938006Z"
    },
    "papermill": {
     "duration": 0.025041,
     "end_time": "2023-11-16T07:37:48.941738",
     "exception": false,
     "start_time": "2023-11-16T07:37:48.916697",
     "status": "completed"
    },
    "tags": []
   },
   "outputs": [
    {
     "data": {
      "text/plain": [
       "Charges\n",
       "$ 10/mo      99\n",
       "$ 9/mo       90\n",
       "$ 19/mo      88\n",
       "$ 29/mo      72\n",
       "$ 5/mo       68\n",
       "$ 9.99/mo    62\n",
       "$ 15/mo      62\n",
       "$ 20/mo      53\n",
       "$5           46\n",
       "$ 49/mo      45\n",
       "Name: count, dtype: int64"
      ]
     },
     "execution_count": 14,
     "metadata": {},
     "output_type": "execute_result"
    }
   ],
   "source": [
    "# Charges Distribution: Displaying the most common pricing structures or charges for AI tools\n",
    "charges_distribution = df[\"Charges\"].value_counts().head(10)\n",
    "\n",
    "charges_distribution"
   ]
  },
  {
   "cell_type": "markdown",
   "id": "3fa197e6",
   "metadata": {
    "papermill": {
     "duration": 0.010325,
     "end_time": "2023-11-16T07:37:48.962972",
     "exception": false,
     "start_time": "2023-11-16T07:37:48.952647",
     "status": "completed"
    },
    "tags": []
   },
   "source": [
    "## Here's the distribution of the most common pricing structures or charges for AI tools:\n",
    "\n",
    "- $10/month: 99 tools\n",
    "\n",
    "- $9/month: 90 tools\n",
    "\n",
    "- $19/month: 88 tools\n",
    "\n",
    "- $29/month: 72 tools\n",
    "\n",
    "- $5/month: 68 tools\n",
    "\n",
    "- $9.99/month: 62 tools\n",
    "\n",
    "- $15/month: 62 tools\n",
    "\n",
    "- $20/month: 53 tools\n",
    "\n",
    "- $5 (one-time or unspecified): 46 tools\n",
    "\n",
    "- $49/month: 45 tools\n",
    "\n",
    "**This provides a glimpse into the prevalent pricing models in the AI tool space.**"
   ]
  },
  {
   "cell_type": "markdown",
   "id": "44b61eeb",
   "metadata": {
    "papermill": {
     "duration": 0.01026,
     "end_time": "2023-11-16T07:37:48.983710",
     "exception": false,
     "start_time": "2023-11-16T07:37:48.973450",
     "status": "completed"
    },
    "tags": []
   },
   "source": [
    "## Now let's list some of the top FREE AI tools based on their categories. We'll consider the top 3 tools from each major category."
   ]
  },
  {
   "cell_type": "code",
   "execution_count": 15,
   "id": "f697051a",
   "metadata": {
    "execution": {
     "iopub.execute_input": "2023-11-16T07:37:49.007064Z",
     "iopub.status.busy": "2023-11-16T07:37:49.006266Z",
     "iopub.status.idle": "2023-11-16T07:37:49.028922Z",
     "shell.execute_reply": "2023-11-16T07:37:49.027664Z"
    },
    "papermill": {
     "duration": 0.037153,
     "end_time": "2023-11-16T07:37:49.031405",
     "exception": false,
     "start_time": "2023-11-16T07:37:48.994252",
     "status": "completed"
    },
    "tags": []
   },
   "outputs": [
    {
     "data": {
      "text/html": [
       "<div>\n",
       "<style scoped>\n",
       "    .dataframe tbody tr th:only-of-type {\n",
       "        vertical-align: middle;\n",
       "    }\n",
       "\n",
       "    .dataframe tbody tr th {\n",
       "        vertical-align: top;\n",
       "    }\n",
       "\n",
       "    .dataframe thead th {\n",
       "        text-align: right;\n",
       "    }\n",
       "</style>\n",
       "<table border=\"1\" class=\"dataframe\">\n",
       "  <thead>\n",
       "    <tr style=\"text-align: right;\">\n",
       "      <th></th>\n",
       "      <th>AI Tool Name</th>\n",
       "      <th>Description</th>\n",
       "      <th>Major Category</th>\n",
       "      <th>Tool Link</th>\n",
       "    </tr>\n",
       "  </thead>\n",
       "  <tbody>\n",
       "    <tr>\n",
       "      <th>3566</th>\n",
       "      <td>Recraft</td>\n",
       "      <td>Generate vector art, 3D images and more</td>\n",
       "      <td>3D</td>\n",
       "      <td>https://www.recraft.ai/?utm_source=futurepedia...</td>\n",
       "    </tr>\n",
       "    <tr>\n",
       "      <th>3924</th>\n",
       "      <td>Skybox Lab</td>\n",
       "      <td>Skybox Lab: One-click 360° image generator fro...</td>\n",
       "      <td>3D</td>\n",
       "      <td>https://skybox.blockadelabs.com/?utm_source=fu...</td>\n",
       "    </tr>\n",
       "    <tr>\n",
       "      <th>851</th>\n",
       "      <td>Chatcad</td>\n",
       "      <td>AI-powered app enabling easy creation of 3D mo...</td>\n",
       "      <td>3D</td>\n",
       "      <td>https://www.chatcad.app/?utm_source=futurepedi...</td>\n",
       "    </tr>\n",
       "    <tr>\n",
       "      <th>1703</th>\n",
       "      <td>Free Text To Speech Online</td>\n",
       "      <td>Free Text To Speech Online is a powerful and v...</td>\n",
       "      <td>audio</td>\n",
       "      <td>https://www.text-to-speech.online/?utm_source=...</td>\n",
       "    </tr>\n",
       "    <tr>\n",
       "      <th>4468</th>\n",
       "      <td>Ttsmaker</td>\n",
       "      <td>Free text-to-speech tool that offers over 100+...</td>\n",
       "      <td>audio</td>\n",
       "      <td>https://ttsmaker.com?utm_source=futurepedia&amp;ut...</td>\n",
       "    </tr>\n",
       "    <tr>\n",
       "      <th>3987</th>\n",
       "      <td>Songr</td>\n",
       "      <td>Generate fully-produced custom songs from just...</td>\n",
       "      <td>audio</td>\n",
       "      <td>https://app.songr.ai/?utm_source=futurepedia&amp;u...</td>\n",
       "    </tr>\n",
       "    <tr>\n",
       "      <th>3367</th>\n",
       "      <td>Project.Supplies</td>\n",
       "      <td>Streamline your DIY projects with Project Supp...</td>\n",
       "      <td>business</td>\n",
       "      <td>https://project.supplies/?utm_source=futureped...</td>\n",
       "    </tr>\n",
       "    <tr>\n",
       "      <th>4256</th>\n",
       "      <td>Tammy Ai</td>\n",
       "      <td>YouTube summaries for free. 10x your learning ...</td>\n",
       "      <td>business</td>\n",
       "      <td>https://tammy.ai/?utm_source=futurepedia&amp;utm_m...</td>\n",
       "    </tr>\n",
       "    <tr>\n",
       "      <th>1613</th>\n",
       "      <td>Finchat.Io</td>\n",
       "      <td>FinChat generates answers to questions about ...</td>\n",
       "      <td>business</td>\n",
       "      <td>https://finchat.io/?utm_source=futurepedia&amp;utm...</td>\n",
       "    </tr>\n",
       "    <tr>\n",
       "      <th>1007</th>\n",
       "      <td>Codeium</td>\n",
       "      <td>AI-powered code acceleration toolkit to code s...</td>\n",
       "      <td>code</td>\n",
       "      <td>https://www.codeium.com/?utm_source=futurepedi...</td>\n",
       "    </tr>\n",
       "    <tr>\n",
       "      <th>1790</th>\n",
       "      <td>Getit Ai</td>\n",
       "      <td>Open GPT Plugin Store with an API and Chat int...</td>\n",
       "      <td>code</td>\n",
       "      <td>https://www.getit.ai/gpt-plugins?utm_source=fu...</td>\n",
       "    </tr>\n",
       "    <tr>\n",
       "      <th>3159</th>\n",
       "      <td>Phind</td>\n",
       "      <td>The AI search engine for developers.</td>\n",
       "      <td>code</td>\n",
       "      <td>https://phind.com/?utm_source=futurepedia&amp;utm_...</td>\n",
       "    </tr>\n",
       "    <tr>\n",
       "      <th>2857</th>\n",
       "      <td>Namecheap Logo Maker</td>\n",
       "      <td>Answer questions, get free logos to download</td>\n",
       "      <td>image</td>\n",
       "      <td>https://www.namecheap.com/logo-maker/app/new/?...</td>\n",
       "    </tr>\n",
       "    <tr>\n",
       "      <th>3072</th>\n",
       "      <td>Paintit.Ai</td>\n",
       "      <td>Paintit.ai is an AI-powered tool that enables ...</td>\n",
       "      <td>image</td>\n",
       "      <td>https://paintit.ai/interior-ai/?utm_source=fut...</td>\n",
       "    </tr>\n",
       "    <tr>\n",
       "      <th>2740</th>\n",
       "      <td>Mindos</td>\n",
       "      <td>MindOS is an AI-powered marketplace where user...</td>\n",
       "      <td>image</td>\n",
       "      <td>https://mindos.com/?utm_source=futurepedia&amp;utm...</td>\n",
       "    </tr>\n",
       "    <tr>\n",
       "      <th>315</th>\n",
       "      <td>Andi</td>\n",
       "      <td>Andi is a generative AI-powered search engine ...</td>\n",
       "      <td>other</td>\n",
       "      <td>https://andisearch.com/?utm_source=futurepedia...</td>\n",
       "    </tr>\n",
       "    <tr>\n",
       "      <th>422</th>\n",
       "      <td>Askgpt</td>\n",
       "      <td>ChatGPT meets WhatsApp for engaging conversations</td>\n",
       "      <td>other</td>\n",
       "      <td>https://askgpt.fyi/?utm_source=futurepedia&amp;utm...</td>\n",
       "    </tr>\n",
       "    <tr>\n",
       "      <th>4420</th>\n",
       "      <td>Traivl</td>\n",
       "      <td>Personalized multi-destination Travel Itinerary</td>\n",
       "      <td>other</td>\n",
       "      <td>https://www.traivl.com/?utm_source=futurepedia...</td>\n",
       "    </tr>\n",
       "    <tr>\n",
       "      <th>3199</th>\n",
       "      <td>Piggy Magic</td>\n",
       "      <td>Piggy Magic - Social Story Maker</td>\n",
       "      <td>text</td>\n",
       "      <td>https://piggy.to/magic?magic_intent=quiz&amp;utm_s...</td>\n",
       "    </tr>\n",
       "    <tr>\n",
       "      <th>4227</th>\n",
       "      <td>Taggy</td>\n",
       "      <td>Generate social media keywords and hashtags.</td>\n",
       "      <td>text</td>\n",
       "      <td>https://www.taggy.com.mx/?utm_source=futureped...</td>\n",
       "    </tr>\n",
       "    <tr>\n",
       "      <th>1527</th>\n",
       "      <td>Evolv</td>\n",
       "      <td>EVOLV is an AI-powered New Tab Chrome extensio...</td>\n",
       "      <td>text</td>\n",
       "      <td>https://goevolv.io/?utm_source=futurepedia&amp;utm...</td>\n",
       "    </tr>\n",
       "    <tr>\n",
       "      <th>4520</th>\n",
       "      <td>Typpo</td>\n",
       "      <td>With Typpo, you can effortlessly create engagi...</td>\n",
       "      <td>video</td>\n",
       "      <td>https://typpo.app/?utm_source=futurepedia&amp;utm_...</td>\n",
       "    </tr>\n",
       "    <tr>\n",
       "      <th>3158</th>\n",
       "      <td>Phenaki</td>\n",
       "      <td>A model for generating videos from text.</td>\n",
       "      <td>video</td>\n",
       "      <td>https://phenaki.video?utm_source=futurepedia&amp;u...</td>\n",
       "    </tr>\n",
       "    <tr>\n",
       "      <th>1161</th>\n",
       "      <td>Creatus.Ai</td>\n",
       "      <td>Jump-Start Your Social Media With Creatus.AI</td>\n",
       "      <td>video</td>\n",
       "      <td>https://creatus.ai/?utm_source=futurepedia&amp;utm...</td>\n",
       "    </tr>\n",
       "  </tbody>\n",
       "</table>\n",
       "</div>"
      ],
      "text/plain": [
       "                    AI Tool Name  \\\n",
       "3566                     Recraft   \n",
       "3924                  Skybox Lab   \n",
       "851                      Chatcad   \n",
       "1703  Free Text To Speech Online   \n",
       "4468                    Ttsmaker   \n",
       "3987                       Songr   \n",
       "3367            Project.Supplies   \n",
       "4256                    Tammy Ai   \n",
       "1613                  Finchat.Io   \n",
       "1007                     Codeium   \n",
       "1790                    Getit Ai   \n",
       "3159                       Phind   \n",
       "2857        Namecheap Logo Maker   \n",
       "3072                  Paintit.Ai   \n",
       "2740                      Mindos   \n",
       "315                         Andi   \n",
       "422                       Askgpt   \n",
       "4420                      Traivl   \n",
       "3199                 Piggy Magic   \n",
       "4227                       Taggy   \n",
       "1527                       Evolv   \n",
       "4520                       Typpo   \n",
       "3158                     Phenaki   \n",
       "1161                  Creatus.Ai   \n",
       "\n",
       "                                            Description Major Category  \\\n",
       "3566            Generate vector art, 3D images and more             3D   \n",
       "3924  Skybox Lab: One-click 360° image generator fro...             3D   \n",
       "851   AI-powered app enabling easy creation of 3D mo...             3D   \n",
       "1703  Free Text To Speech Online is a powerful and v...          audio   \n",
       "4468  Free text-to-speech tool that offers over 100+...          audio   \n",
       "3987  Generate fully-produced custom songs from just...          audio   \n",
       "3367  Streamline your DIY projects with Project Supp...       business   \n",
       "4256  YouTube summaries for free. 10x your learning ...       business   \n",
       "1613   FinChat generates answers to questions about ...       business   \n",
       "1007  AI-powered code acceleration toolkit to code s...           code   \n",
       "1790  Open GPT Plugin Store with an API and Chat int...           code   \n",
       "3159               The AI search engine for developers.           code   \n",
       "2857       Answer questions, get free logos to download          image   \n",
       "3072  Paintit.ai is an AI-powered tool that enables ...          image   \n",
       "2740  MindOS is an AI-powered marketplace where user...          image   \n",
       "315   Andi is a generative AI-powered search engine ...          other   \n",
       "422   ChatGPT meets WhatsApp for engaging conversations          other   \n",
       "4420    Personalized multi-destination Travel Itinerary          other   \n",
       "3199                   Piggy Magic - Social Story Maker           text   \n",
       "4227       Generate social media keywords and hashtags.           text   \n",
       "1527  EVOLV is an AI-powered New Tab Chrome extensio...           text   \n",
       "4520  With Typpo, you can effortlessly create engagi...          video   \n",
       "3158           A model for generating videos from text.          video   \n",
       "1161       Jump-Start Your Social Media With Creatus.AI          video   \n",
       "\n",
       "                                              Tool Link  \n",
       "3566  https://www.recraft.ai/?utm_source=futurepedia...  \n",
       "3924  https://skybox.blockadelabs.com/?utm_source=fu...  \n",
       "851   https://www.chatcad.app/?utm_source=futurepedi...  \n",
       "1703  https://www.text-to-speech.online/?utm_source=...  \n",
       "4468  https://ttsmaker.com?utm_source=futurepedia&ut...  \n",
       "3987  https://app.songr.ai/?utm_source=futurepedia&u...  \n",
       "3367  https://project.supplies/?utm_source=futureped...  \n",
       "4256  https://tammy.ai/?utm_source=futurepedia&utm_m...  \n",
       "1613  https://finchat.io/?utm_source=futurepedia&utm...  \n",
       "1007  https://www.codeium.com/?utm_source=futurepedi...  \n",
       "1790  https://www.getit.ai/gpt-plugins?utm_source=fu...  \n",
       "3159  https://phind.com/?utm_source=futurepedia&utm_...  \n",
       "2857  https://www.namecheap.com/logo-maker/app/new/?...  \n",
       "3072  https://paintit.ai/interior-ai/?utm_source=fut...  \n",
       "2740  https://mindos.com/?utm_source=futurepedia&utm...  \n",
       "315   https://andisearch.com/?utm_source=futurepedia...  \n",
       "422   https://askgpt.fyi/?utm_source=futurepedia&utm...  \n",
       "4420  https://www.traivl.com/?utm_source=futurepedia...  \n",
       "3199  https://piggy.to/magic?magic_intent=quiz&utm_s...  \n",
       "4227  https://www.taggy.com.mx/?utm_source=futureped...  \n",
       "1527  https://goevolv.io/?utm_source=futurepedia&utm...  \n",
       "4520  https://typpo.app/?utm_source=futurepedia&utm_...  \n",
       "3158  https://phenaki.video?utm_source=futurepedia&u...  \n",
       "1161  https://creatus.ai/?utm_source=futurepedia&utm...  "
      ]
     },
     "execution_count": 15,
     "metadata": {},
     "output_type": "execute_result"
    }
   ],
   "source": [
    "# Top Free Tools based on their categories\n",
    "free_tools = df[df[\"Free/Paid/Other\"] == \"Free\"]\n",
    "\n",
    "# Group by major category and get top 3 tools from each category\n",
    "# top_free_tools_by_category = free_tools.groupby(\"Major Category\").head(3)\n",
    "top_free_tools_by_category = free_tools.sort_values(by=\"Review\", ascending=False).groupby(\"Major Category\").head(3)\n",
    "\n",
    "top_free_tools_by_category = top_free_tools_by_category.sort_values(by=\"Major Category\")\n",
    "\n",
    "# Selecting relevant columns for display\n",
    "top_free_tools_by_category = top_free_tools_by_category[[\"AI Tool Name\", \"Description\", \"Major Category\", \"Tool Link\"]]\n",
    "\n",
    "top_free_tools_by_category"
   ]
  },
  {
   "cell_type": "code",
   "execution_count": 16,
   "id": "d0a60ff6",
   "metadata": {
    "execution": {
     "iopub.execute_input": "2023-11-16T07:37:49.055885Z",
     "iopub.status.busy": "2023-11-16T07:37:49.054958Z",
     "iopub.status.idle": "2023-11-16T07:37:49.077421Z",
     "shell.execute_reply": "2023-11-16T07:37:49.076224Z"
    },
    "papermill": {
     "duration": 0.037625,
     "end_time": "2023-11-16T07:37:49.080060",
     "exception": false,
     "start_time": "2023-11-16T07:37:49.042435",
     "status": "completed"
    },
    "tags": []
   },
   "outputs": [
    {
     "data": {
      "text/html": [
       "<div>\n",
       "<style scoped>\n",
       "    .dataframe tbody tr th:only-of-type {\n",
       "        vertical-align: middle;\n",
       "    }\n",
       "\n",
       "    .dataframe tbody tr th {\n",
       "        vertical-align: top;\n",
       "    }\n",
       "\n",
       "    .dataframe thead th {\n",
       "        text-align: right;\n",
       "    }\n",
       "</style>\n",
       "<table border=\"1\" class=\"dataframe\">\n",
       "  <thead>\n",
       "    <tr style=\"text-align: right;\">\n",
       "      <th></th>\n",
       "      <th>AI Tool Name</th>\n",
       "      <th>Description</th>\n",
       "      <th>Major Category</th>\n",
       "      <th>Charges</th>\n",
       "      <th>Tool Link</th>\n",
       "    </tr>\n",
       "  </thead>\n",
       "  <tbody>\n",
       "    <tr>\n",
       "      <th>851</th>\n",
       "      <td>Chatcad</td>\n",
       "      <td>AI-powered app enabling easy creation of 3D mo...</td>\n",
       "      <td>3D</td>\n",
       "      <td>NaN</td>\n",
       "      <td>https://www.chatcad.app/?utm_source=futurepedi...</td>\n",
       "    </tr>\n",
       "    <tr>\n",
       "      <th>3924</th>\n",
       "      <td>Skybox Lab</td>\n",
       "      <td>Skybox Lab: One-click 360° image generator fro...</td>\n",
       "      <td>3D</td>\n",
       "      <td>NaN</td>\n",
       "      <td>https://skybox.blockadelabs.com/?utm_source=fu...</td>\n",
       "    </tr>\n",
       "    <tr>\n",
       "      <th>3566</th>\n",
       "      <td>Recraft</td>\n",
       "      <td>Generate vector art, 3D images and more</td>\n",
       "      <td>3D</td>\n",
       "      <td>NaN</td>\n",
       "      <td>https://www.recraft.ai/?utm_source=futurepedia...</td>\n",
       "    </tr>\n",
       "    <tr>\n",
       "      <th>1646</th>\n",
       "      <td>Fliki</td>\n",
       "      <td>Create videos from blog posts in 2 mins</td>\n",
       "      <td>audio</td>\n",
       "      <td>$ 8/mo</td>\n",
       "      <td>/tool/fliki</td>\n",
       "    </tr>\n",
       "    <tr>\n",
       "      <th>3726</th>\n",
       "      <td>Rythmex</td>\n",
       "      <td>Convert Audio to Text with Rythmex Transcriber...</td>\n",
       "      <td>audio</td>\n",
       "      <td>$ 25/mo</td>\n",
       "      <td>https://rythmex.com/?utm_source=futurepedia&amp;ut...</td>\n",
       "    </tr>\n",
       "    <tr>\n",
       "      <th>4468</th>\n",
       "      <td>Ttsmaker</td>\n",
       "      <td>Free text-to-speech tool that offers over 100+...</td>\n",
       "      <td>audio</td>\n",
       "      <td>NaN</td>\n",
       "      <td>https://ttsmaker.com?utm_source=futurepedia&amp;ut...</td>\n",
       "    </tr>\n",
       "    <tr>\n",
       "      <th>1907</th>\n",
       "      <td>Gptforslides</td>\n",
       "      <td>Generate Beautiful Presentations with Images, ...</td>\n",
       "      <td>business</td>\n",
       "      <td>$0</td>\n",
       "      <td>https://www.gptforslides.app/?utm_source=futur...</td>\n",
       "    </tr>\n",
       "    <tr>\n",
       "      <th>4256</th>\n",
       "      <td>Tammy Ai</td>\n",
       "      <td>YouTube summaries for free. 10x your learning ...</td>\n",
       "      <td>business</td>\n",
       "      <td>NaN</td>\n",
       "      <td>https://tammy.ai/?utm_source=futurepedia&amp;utm_m...</td>\n",
       "    </tr>\n",
       "    <tr>\n",
       "      <th>656</th>\n",
       "      <td>Booke Ai</td>\n",
       "      <td>Streamline your bookkeeping business with AI-d...</td>\n",
       "      <td>business</td>\n",
       "      <td>$ 30/mo</td>\n",
       "      <td>https://booke.ai?utm_source=futurepedia&amp;utm_me...</td>\n",
       "    </tr>\n",
       "    <tr>\n",
       "      <th>1007</th>\n",
       "      <td>Codeium</td>\n",
       "      <td>AI-powered code acceleration toolkit to code s...</td>\n",
       "      <td>code</td>\n",
       "      <td>NaN</td>\n",
       "      <td>https://www.codeium.com/?utm_source=futurepedi...</td>\n",
       "    </tr>\n",
       "    <tr>\n",
       "      <th>1399</th>\n",
       "      <td>Durable</td>\n",
       "      <td>Create a website, automate marketing &amp; manage ...</td>\n",
       "      <td>code</td>\n",
       "      <td>$ 15/mo</td>\n",
       "      <td>/tool/durable-ai</td>\n",
       "    </tr>\n",
       "    <tr>\n",
       "      <th>4170</th>\n",
       "      <td>Superflows</td>\n",
       "      <td>Open Source toolkit for building an AI assista...</td>\n",
       "      <td>code</td>\n",
       "      <td>$ 100/mo</td>\n",
       "      <td>https://www.superflows.ai/?utm_source=futurepedia</td>\n",
       "    </tr>\n",
       "    <tr>\n",
       "      <th>2532</th>\n",
       "      <td>Looka</td>\n",
       "      <td>Create custom logos with Looka Logo Maker and AI.</td>\n",
       "      <td>image</td>\n",
       "      <td>$20</td>\n",
       "      <td>/tool/looka</td>\n",
       "    </tr>\n",
       "    <tr>\n",
       "      <th>1132</th>\n",
       "      <td>Coursefactory Ai</td>\n",
       "      <td>CourseFactory AI is your team of AI agents ded...</td>\n",
       "      <td>image</td>\n",
       "      <td>$19</td>\n",
       "      <td>https://coursefactory.ai/?utm_source=futureped...</td>\n",
       "    </tr>\n",
       "    <tr>\n",
       "      <th>2649</th>\n",
       "      <td>Marketingblocks Ai</td>\n",
       "      <td>AI powered marketing assistant</td>\n",
       "      <td>image</td>\n",
       "      <td>$ 57/mo</td>\n",
       "      <td>https://questionreality--snapilabs.thrivecart....</td>\n",
       "    </tr>\n",
       "    <tr>\n",
       "      <th>315</th>\n",
       "      <td>Andi</td>\n",
       "      <td>Andi is a generative AI-powered search engine ...</td>\n",
       "      <td>other</td>\n",
       "      <td>NaN</td>\n",
       "      <td>https://andisearch.com/?utm_source=futurepedia...</td>\n",
       "    </tr>\n",
       "    <tr>\n",
       "      <th>1326</th>\n",
       "      <td>Docus</td>\n",
       "      <td>Providing personalized health insights, recomm...</td>\n",
       "      <td>other</td>\n",
       "      <td>$ 14.99/mo</td>\n",
       "      <td>https://docus.ai/?utm_source=futurepedia&amp;utm_m...</td>\n",
       "    </tr>\n",
       "    <tr>\n",
       "      <th>4420</th>\n",
       "      <td>Traivl</td>\n",
       "      <td>Personalized multi-destination Travel Itinerary</td>\n",
       "      <td>other</td>\n",
       "      <td>NaN</td>\n",
       "      <td>https://www.traivl.com/?utm_source=futurepedia...</td>\n",
       "    </tr>\n",
       "    <tr>\n",
       "      <th>4204</th>\n",
       "      <td>Syllaby</td>\n",
       "      <td>Create Your Social Media Strategy In 10 Minutes</td>\n",
       "      <td>text</td>\n",
       "      <td>$ 49/mo</td>\n",
       "      <td>https://www.syllaby.io?utm_source=futurepedia&amp;...</td>\n",
       "    </tr>\n",
       "    <tr>\n",
       "      <th>1738</th>\n",
       "      <td>Gamma</td>\n",
       "      <td>Write Beautiful, engaging content with none of...</td>\n",
       "      <td>text</td>\n",
       "      <td>NaN</td>\n",
       "      <td>https://gamma.app/?utm_source=futurepedia&amp;utm_...</td>\n",
       "    </tr>\n",
       "    <tr>\n",
       "      <th>1854</th>\n",
       "      <td>Gocharlie Ai</td>\n",
       "      <td>A generative AI platform for content creators!</td>\n",
       "      <td>text</td>\n",
       "      <td>$39</td>\n",
       "      <td>https://gocharlie.ai/?utm_source=futurepedia&amp;u...</td>\n",
       "    </tr>\n",
       "    <tr>\n",
       "      <th>2345</th>\n",
       "      <td>Klap</td>\n",
       "      <td>Turn any video into viral shorts.</td>\n",
       "      <td>video</td>\n",
       "      <td>$ 29/mo</td>\n",
       "      <td>https://klap.app/?utm_source=futurepedia&amp;utm_m...</td>\n",
       "    </tr>\n",
       "    <tr>\n",
       "      <th>2666</th>\n",
       "      <td>Maverick</td>\n",
       "      <td>AI-generated personalized videos at scale</td>\n",
       "      <td>video</td>\n",
       "      <td>NaN</td>\n",
       "      <td>https://www.trymaverick.com/?utm_source=future...</td>\n",
       "    </tr>\n",
       "    <tr>\n",
       "      <th>4637</th>\n",
       "      <td>Vidyo.Ai</td>\n",
       "      <td>Create short clips from long videos, save 90% ...</td>\n",
       "      <td>video</td>\n",
       "      <td>$ 19.99/mo</td>\n",
       "      <td>https://vidyo.ai/?utm_source=futurepedia&amp;utm_m...</td>\n",
       "    </tr>\n",
       "  </tbody>\n",
       "</table>\n",
       "</div>"
      ],
      "text/plain": [
       "            AI Tool Name                                        Description  \\\n",
       "851              Chatcad  AI-powered app enabling easy creation of 3D mo...   \n",
       "3924          Skybox Lab  Skybox Lab: One-click 360° image generator fro...   \n",
       "3566             Recraft            Generate vector art, 3D images and more   \n",
       "1646               Fliki            Create videos from blog posts in 2 mins   \n",
       "3726             Rythmex  Convert Audio to Text with Rythmex Transcriber...   \n",
       "4468            Ttsmaker  Free text-to-speech tool that offers over 100+...   \n",
       "1907        Gptforslides  Generate Beautiful Presentations with Images, ...   \n",
       "4256            Tammy Ai  YouTube summaries for free. 10x your learning ...   \n",
       "656             Booke Ai  Streamline your bookkeeping business with AI-d...   \n",
       "1007             Codeium  AI-powered code acceleration toolkit to code s...   \n",
       "1399             Durable  Create a website, automate marketing & manage ...   \n",
       "4170          Superflows  Open Source toolkit for building an AI assista...   \n",
       "2532               Looka  Create custom logos with Looka Logo Maker and AI.   \n",
       "1132    Coursefactory Ai  CourseFactory AI is your team of AI agents ded...   \n",
       "2649  Marketingblocks Ai                     AI powered marketing assistant   \n",
       "315                 Andi  Andi is a generative AI-powered search engine ...   \n",
       "1326               Docus  Providing personalized health insights, recomm...   \n",
       "4420              Traivl    Personalized multi-destination Travel Itinerary   \n",
       "4204             Syllaby    Create Your Social Media Strategy In 10 Minutes   \n",
       "1738               Gamma  Write Beautiful, engaging content with none of...   \n",
       "1854        Gocharlie Ai    A generative AI platform for content creators!    \n",
       "2345                Klap                  Turn any video into viral shorts.   \n",
       "2666            Maverick          AI-generated personalized videos at scale   \n",
       "4637            Vidyo.Ai  Create short clips from long videos, save 90% ...   \n",
       "\n",
       "     Major Category     Charges  \\\n",
       "851              3D         NaN   \n",
       "3924             3D         NaN   \n",
       "3566             3D         NaN   \n",
       "1646          audio      $ 8/mo   \n",
       "3726          audio     $ 25/mo   \n",
       "4468          audio         NaN   \n",
       "1907       business         $0    \n",
       "4256       business         NaN   \n",
       "656        business     $ 30/mo   \n",
       "1007           code         NaN   \n",
       "1399           code     $ 15/mo   \n",
       "4170           code    $ 100/mo   \n",
       "2532          image        $20    \n",
       "1132          image        $19    \n",
       "2649          image     $ 57/mo   \n",
       "315           other         NaN   \n",
       "1326          other  $ 14.99/mo   \n",
       "4420          other         NaN   \n",
       "4204           text     $ 49/mo   \n",
       "1738           text         NaN   \n",
       "1854           text        $39    \n",
       "2345          video     $ 29/mo   \n",
       "2666          video         NaN   \n",
       "4637          video  $ 19.99/mo   \n",
       "\n",
       "                                              Tool Link  \n",
       "851   https://www.chatcad.app/?utm_source=futurepedi...  \n",
       "3924  https://skybox.blockadelabs.com/?utm_source=fu...  \n",
       "3566  https://www.recraft.ai/?utm_source=futurepedia...  \n",
       "1646                                        /tool/fliki  \n",
       "3726  https://rythmex.com/?utm_source=futurepedia&ut...  \n",
       "4468  https://ttsmaker.com?utm_source=futurepedia&ut...  \n",
       "1907  https://www.gptforslides.app/?utm_source=futur...  \n",
       "4256  https://tammy.ai/?utm_source=futurepedia&utm_m...  \n",
       "656   https://booke.ai?utm_source=futurepedia&utm_me...  \n",
       "1007  https://www.codeium.com/?utm_source=futurepedi...  \n",
       "1399                                   /tool/durable-ai  \n",
       "4170  https://www.superflows.ai/?utm_source=futurepedia  \n",
       "2532                                        /tool/looka  \n",
       "1132  https://coursefactory.ai/?utm_source=futureped...  \n",
       "2649  https://questionreality--snapilabs.thrivecart....  \n",
       "315   https://andisearch.com/?utm_source=futurepedia...  \n",
       "1326  https://docus.ai/?utm_source=futurepedia&utm_m...  \n",
       "4420  https://www.traivl.com/?utm_source=futurepedia...  \n",
       "4204  https://www.syllaby.io?utm_source=futurepedia&...  \n",
       "1738  https://gamma.app/?utm_source=futurepedia&utm_...  \n",
       "1854  https://gocharlie.ai/?utm_source=futurepedia&u...  \n",
       "2345  https://klap.app/?utm_source=futurepedia&utm_m...  \n",
       "2666  https://www.trymaverick.com/?utm_source=future...  \n",
       "4637  https://vidyo.ai/?utm_source=futurepedia&utm_m...  "
      ]
     },
     "execution_count": 16,
     "metadata": {},
     "output_type": "execute_result"
    }
   ],
   "source": [
    "# Group by major category and get top 3 tools from each category\n",
    "top_free_tools_by_category = df.sort_values(by=\"Review\", ascending=False).groupby(\"Major Category\").head(3)\n",
    "\n",
    "top_free_tools_by_category = top_free_tools_by_category.sort_values(by=\"Major Category\")\n",
    "\n",
    "# Selecting relevant columns for display\n",
    "top_free_tools_by_category = top_free_tools_by_category[[\"AI Tool Name\", \"Description\", \"Major Category\", 'Charges', \"Tool Link\"]]\n",
    "\n",
    "top_free_tools_by_category"
   ]
  },
  {
   "cell_type": "code",
   "execution_count": 17,
   "id": "c237303b",
   "metadata": {
    "execution": {
     "iopub.execute_input": "2023-11-16T07:37:49.105212Z",
     "iopub.status.busy": "2023-11-16T07:37:49.104787Z",
     "iopub.status.idle": "2023-11-16T07:37:49.340141Z",
     "shell.execute_reply": "2023-11-16T07:37:49.338859Z"
    },
    "papermill": {
     "duration": 0.251098,
     "end_time": "2023-11-16T07:37:49.342793",
     "exception": false,
     "start_time": "2023-11-16T07:37:49.091695",
     "status": "completed"
    },
    "tags": []
   },
   "outputs": [
    {
     "name": "stdout",
     "output_type": "stream",
     "text": [
      "Aggregate number of reviews for free tools: 1211\n",
      "Aggregate number of reviews for paid tools: 315\n"
     ]
    },
    {
     "data": {
      "image/png": "[encoded data removed]",
      "text/plain": [
       "<Figure size 640x480 with 1 Axes>"
      ]
     },
     "metadata": {},
     "output_type": "display_data"
    }
   ],
   "source": [
    "# Calculate the aggregate number of reviews for free tools\n",
    "aggregate_reviews_free = pd.to_numeric(df[df[\"Free/Paid/Other\"] == \"Free\"][\"Review\"], errors='coerce').dropna().astype(int).sum()\n",
    "\n",
    "# Convert the \"Reviews\" column to integers and calculate the aggregate number of reviews for paid tools (ignoring NaN values and non-numeric strings)\n",
    "aggregate_reviews_paid = pd.to_numeric(df[df[\"Free/Paid/Other\"] == \"Paid\"][\"Review\"], errors='coerce').dropna().astype(int).sum()\n",
    "\n",
    "# Print the results\n",
    "print(\"Aggregate number of reviews for free tools:\", aggregate_reviews_free)\n",
    "print(\"Aggregate number of reviews for paid tools:\", aggregate_reviews_paid)\n",
    "\n",
    "categories = ['Free Tools', 'Paid Tools']\n",
    "aggregate_reviews = [aggregate_reviews_free, aggregate_reviews_paid]\n",
    "\n",
    "plt.bar(categories, aggregate_reviews, color=['blue', 'red'])\n",
    "plt.xlabel('Tool Type')\n",
    "plt.ylabel('Aggregate Number of Reviews')\n",
    "plt.title('Aggregate Number of Reviews for Free and Paid Tools')\n",
    "plt.show()"
   ]
  },
  {
   "cell_type": "markdown",
   "id": "fdf516e3",
   "metadata": {
    "papermill": {
     "duration": 0.012033,
     "end_time": "2023-11-16T07:37:49.367317",
     "exception": false,
     "start_time": "2023-11-16T07:37:49.355284",
     "status": "completed"
    },
    "tags": []
   },
   "source": []
  },
  {
   "cell_type": "markdown",
   "id": "ebcb3ade",
   "metadata": {
    "papermill": {
     "duration": 0.011873,
     "end_time": "2023-11-16T07:37:49.391931",
     "exception": false,
     "start_time": "2023-11-16T07:37:49.380058",
     "status": "completed"
    },
    "tags": []
   },
   "source": [
    "## Exploring the Major Category column"
   ]
  },
  {
   "cell_type": "code",
   "execution_count": 18,
   "id": "daa360f7",
   "metadata": {
    "execution": {
     "iopub.execute_input": "2023-11-16T07:37:49.418598Z",
     "iopub.status.busy": "2023-11-16T07:37:49.418171Z",
     "iopub.status.idle": "2023-11-16T07:37:49.426386Z",
     "shell.execute_reply": "2023-11-16T07:37:49.425140Z"
    },
    "papermill": {
     "duration": 0.024879,
     "end_time": "2023-11-16T07:37:49.429038",
     "exception": false,
     "start_time": "2023-11-16T07:37:49.404159",
     "status": "completed"
    },
    "tags": []
   },
   "outputs": [],
   "source": [
    "df['Major Category'] = df['Major Category'].str.capitalize()"
   ]
  },
  {
   "cell_type": "code",
   "execution_count": null,
   "id": "342f1fd2",
   "metadata": {
    "papermill": {
     "duration": 0.012084,
     "end_time": "2023-11-16T07:37:49.453414",
     "exception": false,
     "start_time": "2023-11-16T07:37:49.441330",
     "status": "completed"
    },
    "tags": []
   },
   "outputs": [],
   "source": []
  },
  {
   "cell_type": "code",
   "execution_count": 19,
   "id": "480e3fff",
   "metadata": {
    "execution": {
     "iopub.execute_input": "2023-11-16T07:37:49.480199Z",
     "iopub.status.busy": "2023-11-16T07:37:49.479616Z",
     "iopub.status.idle": "2023-11-16T07:37:49.791439Z",
     "shell.execute_reply": "2023-11-16T07:37:49.790134Z"
    },
    "papermill": {
     "duration": 0.328309,
     "end_time": "2023-11-16T07:37:49.793971",
     "exception": false,
     "start_time": "2023-11-16T07:37:49.465662",
     "status": "completed"
    },
    "tags": []
   },
   "outputs": [
    {
     "data": {
      "image/png": "[encoded data removed]",
      "text/plain": [
       "<Figure size 640x480 with 1 Axes>"
      ]
     },
     "metadata": {},
     "output_type": "display_data"
    }
   ],
   "source": [
    "# Business and text categories have the most tools\n",
    "df['Major Category'].value_counts().plot(kind='bar', xlabel='', title='Number of AI tools per major category',\n",
    "                                         grid=False)\n",
    "sns.despine();"
   ]
  },
  {
   "cell_type": "markdown",
   "id": "5af706a5",
   "metadata": {
    "papermill": {
     "duration": 0.012395,
     "end_time": "2023-11-16T07:37:49.819333",
     "exception": false,
     "start_time": "2023-11-16T07:37:49.806938",
     "status": "completed"
    },
    "tags": []
   },
   "source": [
    "## Exploring Useable for column"
   ]
  },
  {
   "cell_type": "code",
   "execution_count": 20,
   "id": "092e3250",
   "metadata": {
    "execution": {
     "iopub.execute_input": "2023-11-16T07:37:49.847202Z",
     "iopub.status.busy": "2023-11-16T07:37:49.846787Z",
     "iopub.status.idle": "2023-11-16T07:37:49.860124Z",
     "shell.execute_reply": "2023-11-16T07:37:49.858861Z"
    },
    "papermill": {
     "duration": 0.029751,
     "end_time": "2023-11-16T07:37:49.862387",
     "exception": false,
     "start_time": "2023-11-16T07:37:49.832636",
     "status": "completed"
    },
    "tags": []
   },
   "outputs": [],
   "source": [
    "def get_formatted_uses(uses):\n",
    "    formatted_uses = []\n",
    "    for use in uses.split('/'):\n",
    "        if use := use.strip():\n",
    "            formatted_uses.append(use.capitalize())\n",
    "    return formatted_uses\n",
    "\n",
    "\n",
    "df['Useable For'] = df['Useable For'].map(get_formatted_uses)"
   ]
  },
  {
   "cell_type": "code",
   "execution_count": 21,
   "id": "12e15f78",
   "metadata": {
    "execution": {
     "iopub.execute_input": "2023-11-16T07:37:49.892315Z",
     "iopub.status.busy": "2023-11-16T07:37:49.891915Z",
     "iopub.status.idle": "2023-11-16T07:37:49.903749Z",
     "shell.execute_reply": "2023-11-16T07:37:49.902670Z"
    },
    "papermill": {
     "duration": 0.031299,
     "end_time": "2023-11-16T07:37:49.906392",
     "exception": false,
     "start_time": "2023-11-16T07:37:49.875093",
     "status": "completed"
    },
    "tags": []
   },
   "outputs": [],
   "source": [
    "uses_count = df['Useable For'].explode().value_counts()\n",
    "labels = ['Rare', 'Less common', 'Common', 'Frequent']\n",
    "uses_distribution = pd.qcut(uses_count, q=4, labels=labels)"
   ]
  },
  {
   "cell_type": "code",
   "execution_count": 22,
   "id": "419e7134",
   "metadata": {
    "execution": {
     "iopub.execute_input": "2023-11-16T07:37:49.998027Z",
     "iopub.status.busy": "2023-11-16T07:37:49.997521Z",
     "iopub.status.idle": "2023-11-16T07:37:51.297447Z",
     "shell.execute_reply": "2023-11-16T07:37:51.296199Z"
    },
    "papermill": {
     "duration": 1.317134,
     "end_time": "2023-11-16T07:37:51.299886",
     "exception": false,
     "start_time": "2023-11-16T07:37:49.982752",
     "status": "completed"
    },
    "tags": []
   },
   "outputs": [
    {
     "data": {
      "image/png": "[encoded data removed]",
      "text/plain": [
       "<Figure size 640x480 with 1 Axes>"
      ]
     },
     "metadata": {},
     "output_type": "display_data"
    },
    {
     "data": {
      "image/png": "[encoded data removed]",
      "text/plain": [
       "<Figure size 640x480 with 1 Axes>"
      ]
     },
     "metadata": {},
     "output_type": "display_data"
    },
    {
     "data": {
      "image/png": "[encoded data removed]",
      "text/plain": [
       "<Figure size 640x480 with 1 Axes>"
      ]
     },
     "metadata": {},
     "output_type": "display_data"
    },
    {
     "data": {
      "image/png": "[encoded data removed]",
      "text/plain": [
       "<Figure size 640x480 with 1 Axes>"
      ]
     },
     "metadata": {},
     "output_type": "display_data"
    }
   ],
   "source": [
    "for label in reversed(labels):\n",
    "    ax = uses_count[uses_distribution == label].plot(kind='bar', grid=False, title=f'Number of AI tools developed to address the {label} uses', xlabel='')\n",
    "    sns.despine()\n",
    "    plt.show();"
   ]
  },
  {
   "cell_type": "code",
   "execution_count": 23,
   "id": "fe1442d4",
   "metadata": {
    "execution": {
     "iopub.execute_input": "2023-11-16T07:37:51.333934Z",
     "iopub.status.busy": "2023-11-16T07:37:51.333512Z",
     "iopub.status.idle": "2023-11-16T07:37:53.979830Z",
     "shell.execute_reply": "2023-11-16T07:37:53.978420Z"
    },
    "papermill": {
     "duration": 2.666573,
     "end_time": "2023-11-16T07:37:53.982528",
     "exception": false,
     "start_time": "2023-11-16T07:37:51.315955",
     "status": "completed"
    },
    "tags": []
   },
   "outputs": [
    {
     "data": {
      "text/html": [
       "        <script type=\"text/javascript\">\n",
       "        window.PlotlyConfig = {MathJaxConfig: 'local'};\n",
       "        if (window.MathJax && window.MathJax.Hub && window.MathJax.Hub.Config) {window.MathJax.Hub.Config({SVG: {font: \"STIX-Web\"}});}\n",
       "        if (typeof require !== 'undefined') {\n",
       "        require.undef(\"plotly\");\n",
       "        requirejs.config({\n",
       "            paths: {\n",
       "                'plotly': ['https://cdn.plot.ly/plotly-2.24.1.min']\n",
       "            }\n",
       "        });\n",
       "        require(['plotly'], function(Plotly) {\n",
       "            window._Plotly = Plotly;\n",
       "        });\n",
       "        }\n",
       "        </script>\n",
       "        "
      ]
     },
     "metadata": {},
     "output_type": "display_data"
    },
    {
     "data": {
      "text/html": [
       "<div>                            <div id=\"adfc9185-28f3-4f84-93cb-d1b14ffecbab\" class=\"plotly-graph-div\" style=\"height:525px; width:100%;\"></div>            <script type=\"text/javascript\">                require([\"plotly\"], function(Plotly) {                    window.PLOTLYENV=window.PLOTLYENV || {};                                    if (document.getElementById(\"adfc9185-28f3-4f84-93cb-d1b14ffecbab\")) {                    Plotly.newPlot(                        \"adfc9185-28f3-4f84-93cb-d1b14ffecbab\",                        [{\"hovertemplate\":\"\\u003cb\\u003e%{hovertext}\\u003c\\u002fb\\u003e\\u003cbr\\u003e\\u003cbr\\u003eFree\\u002fPaid\\u002fOther=Freemium\\u003cbr\\u003ePricing=%{x}\\u003cbr\\u003eNumber of Reviews=%{y}\\u003cextra\\u003e\\u003c\\u002fextra\\u003e\",\"hovertext\":[\" Mailbutler Ai\",\"2Short.Ai\",\"60Sec.Site\",\"Agendaai\",\"Ai Chat Travel Assistant\",\"Ai Engine\",\"Ai Pakistani\",\"Ai Seo Outlines\",\"Ai. Image Enlarger\",\"Ai.Ls\",\"Ai2Sql\",\"Aistote\",\"Aistudio\",\"Aizzy.Ai\",\"Ajelix\",\"Amper Music\",\"Analisa.Io\",\"Architectgpt\",\"Artaist\",\"Artblastai\",\"Audiopen\",\"Audyo\",\"Auto Seduction\",\"Auto Subtitle Generator\",\"Avoma\",\"B-Cube.Ai\",\"Bargpt\",\"Beatoven.Ai\",\"Betterprompt\",\"Bigjpg\",\"Bogar.Ai\",\"Boomy\",\"Bothatch\",\"Breeze\",\"Browse Ai\",\"Buffer\",\"Buzzr\",\"Caktus\",\"Candideai\",\"Candydate\",\"Careerdekho\",\"Caspa Ai\",\"Chadview\",\"Chaptergpt\",\"Chartai\",\"Chat2Code\",\"Chatfast\",\"Chatfuel Ai\",\"Chatgpt\",\"Chatguru\",\"Chatkit\",\"Chatling\",\"Chatmind\",\"Chatpdf\",\"Chatronai\",\"Chatshape\",\"Chatsimple\",\"Classifyai\",\"Clevopyai\",\"Clipmaker\",\"Code Snippets Ai\",\"Coderabbit.Ai\",\"Cody\",\"Cogniflow\",\"Coinscreener\",\"Composer\",\"Copy.Ai\",\"Cosonify\",\"Coursebox\",\"Coursefactory Ai\",\"Creativai\",\"Credithq\",\"Crystalsound\",\"Custom Story Creator\",\"Dalle-2\",\"Dappergpt\",\"Databorg.Ai\",\"Dataspot\",\"Dazzle Ai\",\"Deepfake Generator\",\"Deepl\",\"Deepnote\",\"Denolyrics\",\"Descript\",\"Dimensions\",\"Discordpal\",\"Docgpt\",\"Docu-Talk\",\"Docus\",\"Domainsgpt\",\"Draw3D\",\"Dreamgf\",\"Drippi.Ai\",\"Dubverse\",\"Dynoweb.Site\",\"Educatorlab\",\"Eesel Ai\",\"Eightify\",\"Elai Io\",\"Eli5\",\"Endurance\",\"Entry Point\",\"Es.Ai\",\"Evita.Ai\",\"Exspanse\",\"Feedback Ai\",\"Fine Tuner Ai\",\"Fini\",\"Flapper.Ai\",\"Fly Ai\",\"Formwise.Ai\",\"Fotofix\",\"Fronty\",\"Gemoo Snap\",\"Gerwin\",\"Getanswer\",\"Getbot\",\"Getfloorplan\",\"Getimg.Ai\",\"Giti\",\"Gladia\",\"Gpitify\",\"Gpt Macros\",\"Gpt Workspace\",\"Gpt-Me\",\"Gpt-Trainer\",\"Gptflow\",\"Gptforslides\",\"Grain\",\"Gramara\",\"Grammar Ai\",\"Grammarguru\",\"Grason\",\"Grasp\",\"Gravitywrite\",\"Hacksocial.Ai\",\"Helpgent\",\"Heygen\",\"Hitpaw Online Video Enhancer\",\"Hocoos Ai\",\"Holly\",\"Homestyler Ai\",\"Horizon Ai Template\",\"Hourone\",\"Ikiblast\",\"Imaginaition\",\"Imgtopia\",\"Impulse Ai\",\"Infinity Gpt\",\"Informed News\",\"Ingestai\",\"Instantanswers\",\"Intellapi\",\"Interaxai\",\"Journey.Io\",\"Justblog\",\"Kaiber.Ai\",\"Kapwing Ai\",\"Kickresume\",\"Kittl\",\"Knibble\",\"Kome Summarizer\",\"Krater.Ai\",\"Kreateable\",\"Kupid Ai\",\"Kwirk\",\"Langotalk\",\"Learngpt\",\"Learnt.Ai\",\"Legalese Decoder\",\"Legalysis\",\"Lek\",\"Leonardo.Ai\",\"Let'S Enhance\",\"Letsask.Ai\",\"Lettermagic\",\"Lilybank Ai\",\"Listener.Fm\",\"Loopin Ai\",\"Lovo\",\"Luminal\",\"Luw.Ai\",\"M1 Chat\",\"Magic Studio\",\"Magical\",\"Magicchat Ai\",\"Magicform\",\"Mails.Ai\",\"Mailscribe\",\"Manga Tv\",\"Marketingblocks Ai\",\"Metrotechs\",\"Mindbot\",\"Mindsera\",\"Miniapps.Ai\",\"Mixo.Io\",\"Monarch Money\",\"Monica\",\"Morphlin\",\"Mostly\",\"Mottle\",\"Movmi\",\"Mubert\",\"Multytude\",\"Muse.Ai\",\"Myfit-Ai\",\"Nack\",\"Narraive\",\"Neural Frames\",\"Nexus - Clay\",\"Nightcafe Studio\",\"Notegenie\",\"Notey.Ai\",\"Notion Ai\",\"Nova Ai\",\"Nubrain.Ai\",\"Numerous.Ai\",\"Obituary Writer\",\"Opexams\",\"Opinioai\",\"Optinmagic\",\"Orquesta Ai Prompts\",\"Otter Ai\",\"Pace Ai\",\"Pagelines\",\"Pandachat\",\"Paperpal\",\"Paragraphai\",\"Paxo.Ai\",\"Perfectessaywriter.Ai\",\"Peter Ai\",\"Phot.Ai\",\"Phrasly\",\"Pica Ai\",\"Pickaxe\",\"Pics Enhancer\",\"Picwish\",\"Pitchpal\",\"Pixiebrix\",\"Playground Ai\",\"Playlistai\",\"Plusdocs\",\"Podcastle\",\"Podchat\",\"Pokeai\",\"Polyglot Media\",\"Post Ai\",\"Presentationai\",\"Prodia\",\"Profilepro\",\"Promptflat\",\"Quillbot Paraphraser\",\"Quinvio Ai\",\"Quizgecko\",\"Qwai Ai\",\"Raizer\",\"Rawquery\",\"Realfake\",\"Realfeedback\",\"Rebeccai\",\"Recast\",\"Recurpost\",\"Reflectr\",\"Reimagine\",\"Replika\",\"Replit\",\"Rerender Ai\",\"Resume Worded\",\"Resumecheck\",\"Reviewgpt\",\"Reviewscout Ai\",\"Ribbo\",\"Roast Dating\",\"Rory\",\"Runwayml\",\"Rytr\",\"Saga Ai\",\"Salesmind Ai\",\"Samplab\",\"Sapling\",\"Sassbook\",\"Scope.Money\",\"Scribbly\",\"Sellesta\",\"Sendsteps\",\"Sharly Ai\",\"Sheriff\",\"Shortify\",\"Shortmake\",\"Sidekick Ai\",\"Silly Times\",\"Simpler\",\"Sketchar\",\"Skipit.Ai\",\"Slidebean\",\"Slidesai\",\"Smartwriteai\",\"Socra Ai\",\"Soon\",\"Speechgen\",\"Speechify\",\"Stable Diffusion\",\"Stealthgpt\",\"Stocked Ai\",\"Storyd\",\"Storywizard\",\"Stunning\",\"Superflows\",\"Superpowered\",\"Supervised Ai\",\"Support Guy\",\"Supportal\",\"Syllaby\",\"Tactiq\",\"Talkback Ai\",\"Tara Ai\",\"Taskade\",\"Tattoos Ai\",\"Teachermatic\",\"Teachology.Ai\",\"Teal Resume Builder\",\"Teamsmartai\",\"The Drive Ai\",\"Tldv\",\"Transkribieren\",\"Trickle\",\"Trickle Ai: Prompts Warehouse\",\"Trinka.Ai\",\"Trust Signals\",\"Tutorai\",\"Typingflow\",\"Ultimate Blogging Companion\",\"Unboring.Ai\",\"Vatic\",\"Video Enhancer\",\"Vidio\",\"Virtual Staging Ai\",\"Visla\",\"Vitalentum\",\"Voicemaker\",\"Voicemod\",\"Watermarkremover.Io\",\"Weblium\",\"Webmaxy\",\"Webuters Ai\",\"What-A-Prompt\",\"Winggg\",\"Wisecut\",\"Wized.Ai\",\"Wolframalpha\",\"Wonderway Coach\",\"Woxo - Idea To Videos\",\"Writechamp\",\"Writerly Ai\",\"Writesmart\",\"Writesonic\",\"Writingmate\",\"Your Own Story Book\",\"Ytsummary\",\"Yujo\"],\"legendgroup\":\"Freemium\",\"marker\":{\"color\":\"#636efa\",\"symbol\":\"circle\"},\"mode\":\"markers\",\"name\":\"Freemium\",\"showlegend\":true,\"x\":[4.0,9.0,null,8.0,19.0,49.0,5.0,9.0,4.0,11.0,7.0,15.0,10.0,null,5.0,null,53.0,10.0,19.0,2.0,39.0,10.0,null,24.0,19.0,21.0,3.0,20.0,4.0,6.0,5.0,null,50.0,10.0,39.0,6.0,29.0,null,0.0,99.0,null,null,5.0,20.0,null,3.0,15.0,29.0,20.0,2.0,29.0,15.0,3.0,5.0,5.0,12.0,19.0,30.0,36.0,35.0,8.0,15.0,null,40.0,8.0,30.0,49.0,10.0,29.0,19.0,1.0,19.0,10.0,null,null,24.0,49.0,5.0,4.0,24.0,null,31.0,7.0,12.0,null,13.0,4.0,9.0,14.0,null,15.0,9.0,76.0,200.0,1.0,9.0,null,null,29.0,2.0,9.0,19.0,12.0,17.0,50.0,25.0,25.0,0.0,9.0,12.0,29.0,5.0,4.0,8.0,3.0,59.0,5.0,null,12.0,6.0,0.0,9.0,null,19.0,null,49.0,20.0,0.0,19.0,15.0,11.0,10.0,10.0,15.0,15.0,12.0,59.0,30.0,23.0,15.0,null,4.0,79.0,30.0,20.0,null,19.0,8.0,null,6.0,20.0,19.0,1.0,20.0,39.0,null,10.0,16.0,3.0,10.0,9.0,5.0,28.0,4.0,9.0,4.0,49.0,5.0,11.0,4.0,10.0,9.0,null,9.0,19.0,7.0,9.0,19.0,12.0,19.0,16.0,3.0,99.0,3.0,15.0,19.0,99.0,24.0,9.0,9.0,57.0,15.0,null,14.0,null,null,14.0,6.0,null,3.0,99.0,null,null,4.0,null,10.0,4.0,3.0,19.0,20.0,null,10.0,7.0,10.0,10.0,9.0,10.0,null,4.0,19.0,19.0,null,8.0,29.0,49.0,5.0,12.0,9.0,8.0,null,10.0,4.0,5.0,5.0,null,null,4.0,19.0,null,15.0,null,25.0,3.0,10.0,11.0,10.0,0.0,399.0,null,9.0,9.0,null,29.0,11.0,3.0,99.0,39.0,null,9.0,15.0,9.0,15.0,9.0,null,7.0,7.0,45.0,null,7.0,8.0,4.0,20.0,null,3.0,12.0,9.0,15.0,53.0,14.0,25.0,39.0,10.0,4.0,14.0,5.0,50.0,3.0,0.0,10.0,5.0,19.0,14.0,8.0,9.0,228.0,12.0,12.0,10.0,5.0,4.0,139.0,null,4.0,null,18.0,10.0,null,100.0,12.0,19.0,15.0,19.0,49.0,8.0,4.0,8.0,19.0,14.0,10.0,null,9.0,39.0,null,null,19.0,10.0,10.0,7.0,49.0,null,4.0,17.0,5.0,6.0,0.0,9.0,20.0,19.0,null,5.0,null,29.0,8.0,100.0,null,null,9.0,10.0,6.0,5.0,60.0,14.0,15.0,4.0,null,12.0,9.0,null,9.0,4.0],\"xaxis\":\"x\",\"y\":[1.0,1.0,2.0,1.0,4.0,1.0,1.0,1.0,7.0,2.0,1.0,1.0,1.0,6.0,1.0,1.0,2.0,2.0,1.0,1.0,1.0,1.0,2.0,1.0,1.0,1.0,1.0,1.0,3.0,1.0,1.0,3.0,1.0,5.0,2.0,1.0,1.0,1.0,2.0,1.0,2.0,4.0,1.0,1.0,4.0,1.0,1.0,5.0,10.0,1.0,1.0,1.0,2.0,3.0,1.0,5.0,4.0,2.0,1.0,1.0,2.0,1.0,13.0,1.0,1.0,1.0,1.0,1.0,3.0,8.0,2.0,1.0,2.0,2.0,3.0,1.0,1.0,7.0,4.0,2.0,1.0,4.0,1.0,1.0,1.0,2.0,1.0,1.0,9.0,1.0,2.0,13.0,1.0,2.0,6.0,4.0,6.0,2.0,1.0,2.0,1.0,1.0,7.0,1.0,1.0,1.0,1.0,1.0,1.0,1.0,1.0,1.0,1.0,2.0,1.0,1.0,1.0,1.0,3.0,1.0,1.0,1.0,3.0,2.0,1.0,1.0,1.0,9.0,1.0,1.0,1.0,1.0,1.0,1.0,1.0,1.0,1.0,1.0,2.0,1.0,1.0,1.0,4.0,2.0,1.0,3.0,1.0,1.0,1.0,4.0,11.0,2.0,1.0,1.0,2.0,1.0,2.0,1.0,1.0,1.0,1.0,1.0,1.0,1.0,1.0,1.0,1.0,2.0,1.0,1.0,1.0,1.0,1.0,1.0,3.0,1.0,1.0,1.0,3.0,1.0,2.0,1.0,1.0,3.0,14.0,1.0,10.0,1.0,1.0,2.0,9.0,2.0,2.0,1.0,2.0,2.0,1.0,10.0,3.0,1.0,1.0,1.0,1.0,1.0,2.0,5.0,2.0,1.0,1.0,1.0,1.0,3.0,1.0,2.0,1.0,3.0,1.0,2.0,2.0,1.0,3.0,1.0,1.0,2.0,1.0,4.0,1.0,1.0,1.0,15.0,1.0,2.0,3.0,1.0,1.0,4.0,2.0,1.0,2.0,5.0,1.0,1.0,1.0,1.0,1.0,1.0,1.0,1.0,1.0,1.0,1.0,1.0,1.0,4.0,2.0,1.0,1.0,2.0,1.0,1.0,2.0,1.0,1.0,1.0,1.0,1.0,1.0,1.0,1.0,2.0,2.0,3.0,4.0,1.0,2.0,2.0,1.0,1.0,1.0,1.0,1.0,1.0,1.0,4.0,1.0,1.0,1.0,1.0,3.0,1.0,1.0,1.0,1.0,6.0,1.0,1.0,1.0,1.0,1.0,1.0,1.0,2.0,1.0,4.0,8.0,1.0,2.0,8.0,1.0,1.0,1.0,2.0,9.0,1.0,1.0,1.0,1.0,1.0,4.0,2.0,3.0,1.0,1.0,1.0,1.0,1.0,11.0,1.0,1.0,2.0,1.0,1.0,2.0,1.0,1.0,1.0,1.0,1.0,2.0,1.0,1.0,2.0,1.0,1.0,1.0,3.0,2.0,1.0,2.0,1.0,1.0,1.0,1.0,1.0,1.0,2.0,1.0,1.0,1.0,2.0],\"yaxis\":\"y\",\"type\":\"scattergl\"},{\"hovertemplate\":\"\\u003cb\\u003e%{hovertext}\\u003c\\u002fb\\u003e\\u003cbr\\u003e\\u003cbr\\u003eFree\\u002fPaid\\u002fOther=Paid\\u003cbr\\u003ePricing=%{x}\\u003cbr\\u003eNumber of Reviews=%{y}\\u003cextra\\u003e\\u003c\\u002fextra\\u003e\",\"hovertext\":[\"Adaptify Listicle Writer\",\"Adswithai\",\"Advantis\",\"Ai Plagiarism Checker\",\"Ai Resume Parser\",\"Ai Studios\",\"Ai Suitup\",\"Ai-Ads\",\"Aicomment\",\"Aigify\",\"Aikeez\",\"Aipassportphotos\",\"Airbrush Ai Headshots\",\"Amto Ai\",\"Animaker’S Subtitle Generator\",\"Aragon Ai\",\"Arti.Pics\",\"Articly\",\"Assemblyai\",\"Automatic Chat\",\"Autoretouch\",\"Autoslide\",\"Autotextgenie Ai\",\"Avatarify\",\"B12.Io\",\"Beemer\",\"Berrycast\",\"Best Resume\",\"Betterpic\",\"Bitesized\",\"Bizway\",\"Blizzy Ai\",\"Blog Booster\",\"Builder.Io\",\"Cactus Ai\",\"Candyicons\",\"Chatbase\",\"Chatspell\",\"Chatterdocs\",\"Chatwizard\",\"Chord Ai\",\"Clarifypdf\",\"Cleverpen\",\"Clip.Fm\",\"Commander Gpt\",\"Conceptmap\",\"Connexun\",\"Content At Scale\",\"Contractable\",\"Copygen\",\"Copypilot\",\"Coverler\",\"Coverlettersimple.Ai\",\"Covrltr\",\"Craftly.Ai\",\"Decktopus Ai\",\"Decorai\",\"Deepshot Ai\",\"Diffusion Logo Studio\",\"Digitalmuses.Ai\",\"Dipsway\",\"Docsbot Ai\",\"Dpth\",\"Dreamcard.Ai\",\"Dubb\",\"Echofox\",\"Elegantprompt\",\"Extendimageai\",\"Fineshare Finecam\",\"First Line Gpt\",\"Generatorxyz\",\"Getbotz\",\"Getchatgpt\",\"Gladly\",\"Gmass\",\"Gpt Quickbar\",\"Gptsafe\",\"Gurubot\",\"Headshot Pro\",\"Heropack\",\"Hexowatch\",\"Hifive\",\"Hints\",\"Homedesignsai\",\"Iacrea\",\"Iconlabai\",\"Ideacadabra\",\"Infichat\",\"Insight7\",\"Instabot\",\"Intellibizzai\",\"Jochem.Ai\",\"Jusi\",\"Kaleido\",\"Khan Academy Khanmigo\",\"Klap\",\"Klenty\",\"Knowbo\",\"Leadingly\",\"Liarliar\",\"Linkedin Comment Ai\",\"Logoai\",\"Logocreatorai\",\"Logomaster\",\"Logopony\",\"Lookbook Ai\",\"Lumiere 3D\",\"Magicbrief\",\"Magicflow\",\"Make Logo Ai\",\"Makerbox\",\"Mealmind\",\"Meeple\",\"Meet Millie\",\"Mentioned\",\"Mnml Ai\",\"Morise.Ai\",\"My Pitch Deck\",\"My Real Estate Brochure\",\"Nando Ai\",\"Naturalreader\",\"Omniinfer\",\"Option Alpha\",\"Ora.Sh\",\"Originality.Ai\",\"Palettebrain\",\"Pansophic\",\"Paperclips\",\"Parsers\",\"Pdf Candy\",\"Photoshot\",\"Pictureperfectai\",\"Pitches.Ai\",\"Pod Genie\",\"Portret\",\"Posed Ai\",\"Powerpresent Ai\",\"Predict Ai\",\"Productify.Ai\",\"Profile Picture Ai\",\"Prompt Genie \",\"Purplebuddy-Ai\",\"Qakaa\",\"Reprompt\",\"Revive\",\"Roboreply\",\"Safebet\",\"Salesforge\",\"Salonist\",\"Scribebuddy\",\"Shmooz.Ai\",\"Shuffll\",\"Simulai\",\"Sirius\",\"Sitegpt\",\"Sitekick\",\"Sitespeakai\",\"Sourceai\",\"Speechflow\",\"Stablematic\",\"Storyboard Hero\",\"Storykube\",\"Sttabot Csat\",\"Superhuman\",\"Synthesia\",\"Synthesys Studio\",\"Taleblocks\",\"Teamsmart Ai\",\"Tellhop\",\"Textgpt Chat\",\"Textunbox\",\"Thinkdiffusion\",\"Tldrai\",\"Tldwai\",\"Tradytics\",\"Transcribethis.Io\",\"Translatio.Ai\",\"Travisnine\",\"Twoslash\",\"Txtgenie Ai\",\"Typeboss\",\"Ubercreate\",\"Ulog\",\"Unsummary\",\"Usechat\",\"Variart\",\"Video Editor Ai\",\"Visuali\",\"Voicetapp\",\"Voicify\",\"Waibsites\",\"Watermelon\",\"West Idol\",\"Whisper Api\",\"Wing Girl\",\"Wiz.Chat\",\"Workbookpdf\",\"Wpgpt\",\"Writio\",\"Yepic\",\"Yoohoo\"],\"legendgroup\":\"Paid\",\"marker\":{\"color\":\"#EF553B\",\"symbol\":\"circle\"},\"mode\":\"markers\",\"name\":\"Paid\",\"showlegend\":true,\"x\":[49.0,6.0,null,5.0,180.0,29.0,19.0,49.0,7.0,1.0,149.0,2.0,4.0,149.0,10.0,null,29.0,47.0,0.0,10.0,0.0,1.0,49.0,5.0,42.0,19.0,4.0,80.0,12.0,2.0,19.0,22.0,25.0,99.0,19.0,3.0,19.0,39.0,19.0,9.0,7.0,1.0,9.0,49.0,7.0,5.0,9.0,150.0,9.0,49.0,14.0,19.0,14.0,2.0,29.0,9.0,24.0,15.0,4.0,7.0,32.0,19.0,4.0,10.0,24.0,5.0,29.0,14.0,9.0,49.0,6.0,49.0,10.0,150.0,19.0,19.0,9.0,9.0,29.0,14.0,14.0,49.0,7.0,27.0,55.0,10.0,25.0,16.0,19.0,49.0,4.0,275.0,99.0,10.0,20.0,29.0,50.0,29.0,2450.0,29.0,1.0,29.0,10.0,12.0,20.0,9.0,29.0,29.0,15.0,9.0,39.0,5.0,34.0,null,49.0,19.0,29.0,29.0,25.0,47.0,4.0,0.0,79.0,19.0,0.0,19.0,5.0,4.0,23.0,3.0,12.0,3.0,95.0,10.0,19.0,7.0,1.0,null,10.0,5.0,3.0,9.0,null,0.0,3.0,19.0,97.0,44.0,149.0,37.0,3.0,null,24.0,25.0,19.0,49.0,30.0,null,0.0,8.0,9.0,9.0,49.0,30.0,30.0,27.0,19.0,37.0,15.0,9.0,2.0,0.0,10.0,10.0,69.0,299.0,0.0,19.0,9.0,4.0,2.0,1.0,2.0,10.0,19.0,8.0,29.0,10.0,19.0,10.0,12.0,165.0,29.0,0.0,14.0,39.0,9.0,39.0,19.0,38.0,6.0],\"xaxis\":\"x\",\"y\":[2.0,1.0,1.0,1.0,1.0,1.0,1.0,1.0,2.0,2.0,1.0,1.0,1.0,1.0,1.0,1.0,1.0,1.0,2.0,1.0,1.0,1.0,2.0,1.0,2.0,1.0,1.0,1.0,1.0,2.0,2.0,1.0,2.0,1.0,1.0,1.0,5.0,1.0,1.0,1.0,1.0,1.0,1.0,1.0,1.0,2.0,1.0,1.0,1.0,1.0,1.0,1.0,1.0,1.0,1.0,1.0,1.0,2.0,3.0,1.0,2.0,2.0,1.0,1.0,1.0,1.0,2.0,1.0,2.0,1.0,1.0,1.0,3.0,1.0,1.0,1.0,1.0,1.0,3.0,1.0,1.0,1.0,1.0,1.0,2.0,2.0,1.0,1.0,4.0,1.0,1.0,1.0,22.0,1.0,1.0,8.0,1.0,2.0,1.0,2.0,1.0,1.0,1.0,5.0,1.0,6.0,2.0,1.0,3.0,4.0,2.0,1.0,1.0,1.0,1.0,1.0,3.0,1.0,1.0,1.0,1.0,2.0,1.0,1.0,1.0,1.0,1.0,1.0,1.0,1.0,1.0,1.0,1.0,1.0,1.0,1.0,1.0,1.0,2.0,2.0,1.0,1.0,3.0,1.0,1.0,1.0,2.0,1.0,1.0,4.0,1.0,7.0,1.0,1.0,1.0,1.0,2.0,1.0,5.0,1.0,2.0,1.0,1.0,1.0,1.0,4.0,1.0,1.0,1.0,1.0,1.0,11.0,1.0,1.0,1.0,1.0,1.0,1.0,1.0,1.0,1.0,1.0,1.0,1.0,2.0,1.0,1.0,1.0,1.0,1.0,1.0,1.0,1.0,1.0,1.0,1.0,2.0,1.0,1.0,1.0,1.0],\"yaxis\":\"y\",\"type\":\"scattergl\"},{\"hovertemplate\":\"\\u003cb\\u003e%{hovertext}\\u003c\\u002fb\\u003e\\u003cbr\\u003e\\u003cbr\\u003eFree\\u002fPaid\\u002fOther=Free Trial\\u003cbr\\u003ePricing=%{x}\\u003cbr\\u003eNumber of Reviews=%{y}\\u003cextra\\u003e\\u003c\\u002fextra\\u003e\",\"hovertext\":[\"Adcrafter.Ai\",\"Adcreative.Ai\",\"Adline\",\"Ai Consulting Tools\",\"Ai Lawyer\",\"Aidaptive\",\"Aiseo\",\"Aiwriter.Fi\",\"Albus\",\"Alpha3D\",\"Alpharesearch\",\"Araby.Ai\",\"Architectai\",\"Artify Labs\",\"Asktro\",\"Assembo Ai\",\"Atonce\",\"Audioread.Com\",\"Ava\",\"Babble Ai\",\"Beyondwords\",\"Bgrem\",\"Blackhedge\",\"Blog Smith\",\"Bluron\",\"Booke Ai\",\"Bookmark\",\"Botly: Ai Chatbot For Onlyfans\",\"Brandbastion Lite\",\"Bvm\",\"Casetext\",\"Castmagic\",\"Castpush\",\"Chatmasters\",\"Chatness\",\"Cleanvoice Ai\",\"Coginiti\",\"Cohesive\",\"Colibri\",\"Colourlab\",\"Comment Generator\",\"Compar\",\"Content Writer Tools\",\"Contentfries\",\"Contentgeni\",\"Contents\",\"Copilot\",\"Coqui\",\"Coursegen\",\"Cowriter\",\"Creasquare\",\"Creative Reality Studio (D-Id)\",\"Crossplag\",\"Cutout Pro\",\"Deepswap\",\"Designs Ai\",\"Diagram\",\"Dialoq Ai\",\"Dr Gupta Ai \",\"Drafter Ai\",\"Dyorai: Your Personal Crypto Research Assistant\",\"Easyseo.Ai\",\"Echowin\",\"Eddy Ai\",\"Education Copilot\",\"Endel\",\"Endless Academy\",\"Esyblog\",\"Evolup\",\"Finance Brain\",\"Flickify\",\"Flirtai App\",\"Flowpoint\",\"Founderassist\",\"Gajix \",\"Gamma\",\"Gen-2 By Runway\",\"Getsound\",\"Gitmind Ai\",\"Gizzmo Ai\",\"Gpt-Ppt\",\"Gpt3 Playground\",\"Gptservice\",\"Graviti Diffus\",\"Gymbuddy Ai\",\"Happychat Ai\",\"Hoppycopy\",\"Hypotenuse Ai\",\"Iapply\",\"Illostrationai\",\"Insertchatgpt\",\"Instant Chapters\",\"Instantly\",\"Instascribe\",\"Intuo Ai\",\"Jason Ai\",\"Jasper\",\"Jobcopy\",\"Jobscan\",\"Jobwizard\",\"Keywordsearch\",\"Kreadoai\",\"Krockio\",\"Lazyapply\",\"Learnly\",\"Leelo\",\"Lekhak.Ai\",\"Lessonplans.Ai\",\"Limecube\",\"Looti\",\"Luna Ai\",\"Machined.Ai\",\"Maker Ai\",\"Manifest Ai\",\"Mark Copy Ai\",\"Meet Summary\",\"Midjourney\",\"Mindgrasp\",\"Monkeylearn\",\"Moonbeam\",\"Munch\",\"Mymind\",\"Nekton.Ai\",\"Nero Ai Image Upscaler\",\"Netus Ai\",\"Neural Newsletters\",\"Never Ai\",\"Newcontent\",\"Noty.Ai\",\"Novel Ai\",\"Octocom\",\"Olympia\",\"Onetone.Ai\",\"Opendream\",\"Openlibreai\",\"Orygo Ai\",\"Ovalowl\",\"Paperclips Copilot\",\"Paxton Ai\",\"Pdf Gpt\",\"Peachly Ai\",\"Pgrammer\",\"Pictory\",\"Pineapple Builder\",\"Play.Ht\",\"Podcast Marketing Ai\",\"Podpilot\",\"Potato\",\"Productai\",\"Qlip.Ai\",\"Qrfiddle\",\"Quick Creator\",\"Quilgo\",\"Quizbot.Ai\",\"Radaar\",\"Raw Shorts\",\"Reachout.Ai\",\"Reflect Ai\",\"Remail\",\"Replicastudios\",\"Reroom Ai\",\"Restore Photo Ai\",\"Resume Ai\",\"Reviews.Io\",\"Roam Around App\",\"Rocketai\",\"Roketfy\",\"Roll\",\"Roomify Ai\",\"Rundiffusion\",\"Rythmex\",\"Schoolai\",\"Scriptme\",\"Scum\",\"Seaart\",\"Second.Dev\",\"Seenapse\",\"Sembly Ai\",\"Seowritex\",\"Seowriting Ai\",\"Sheetgod\",\"Sibyl Ai\",\"Siedisk\",\"Simplified\",\"Socialbee\",\"Speechllect\",\"Stammer\",\"Stockimg Ai\",\"Stormi\",\"Superblog\",\"Talesai\",\"Taplio\",\"Tekmatix\",\"Threado Ai\",\"Todo.Is\",\"Truebees\",\"Tugan.Ai\",\"Undetectable Ai\",\"Varosai\",\"Videoleap\",\"Virtual House Flip\",\"Voiceline\",\"Voicemod Text To Song\",\"Vondy Ai\",\"Wavel Ai\",\"We Made A Story\",\"Webapi.Ai\",\"Webullar\",\"Wonderchat.Io\",\"Wondershare Virtulook\",\"Wonsulting Ai\",\"Wordai\",\"Wordkraft Ai\",\"Wp Wand\",\"Writeai.Tech\",\"Xpath Labs\",\"Yepp Ai\",\"Yt Copycat\",\"Zarla Ai\",\"Zuva\"],\"legendgroup\":\"Free Trial\",\"marker\":{\"color\":\"#00cc96\",\"symbol\":\"circle\"},\"mode\":\"markers\",\"name\":\"Free Trial\",\"showlegend\":true,\"x\":[19.0,29.0,15.0,12.0,9.0,null,19.0,11.0,19.0,9.0,49.0,2.0,39.0,20.0,49.0,16.0,29.0,9.0,149.0,14.0,99.0,5.0,9.0,24.0,360.0,30.0,14.0,40.0,74.0,180.0,90.0,39.0,null,25.0,42.0,1.0,189.0,null,60.0,null,4.0,8.0,89.0,9.0,4.0,20.0,10.0,20.0,20.0,null,13.0,5.0,9.0,0.0,9.0,25.0,null,19.0,20.0,199.0,null,24.0,19.0,100.0,9.0,null,20.0,99.0,10.0,0.0,29.0,1.0,59.0,5.0,7.0,null,null,null,9.0,9.0,10.0,0.0,29.0,10.0,3.0,19.0,29.0,24.0,27.0,4.0,19.0,9.0,37.0,2.0,19.0,60.0,40.0,29.0,30.0,null,97.0,null,15.0,100.0,397.0,12.0,10.0,49.0,19.0,53.0,null,49.0,10.0,99.0,59.0,19.0,null,6.0,299.0,15.0,49.0,11.0,null,24.0,9.0,97.0,null,4.0,14.0,10.0,50.0,19.0,39.0,null,null,9.0,9.0,4.0,74.0,null,49.0,8.0,19.0,12.0,14.0,9.0,null,9.0,5.0,32.0,20.0,9.0,10.0,9.0,9.0,25.0,79.0,10.0,5.0,24.0,19.0,4.0,59.0,89.0,2.0,null,18.0,49.0,9.0,0.0,25.0,null,45.0,null,null,79.0,null,10.0,20.0,12.0,29.0,49.0,9.0,21.0,19.0,10.0,97.0,19.0,2.0,29.0,9.0,39.0,97.0,99.0,9.0,1.0,null,10.0,null,5.0,null,13.0,null,null,20.0,5.0,2.0,19.0,49.0,39.0,12.0,27.0,9.0,49.0,0.0,10.0,79.0,14.0,9.0,50.0],\"xaxis\":\"x\",\"y\":[2.0,8.0,1.0,1.0,4.0,3.0,42.0,2.0,1.0,1.0,2.0,2.0,1.0,6.0,1.0,1.0,1.0,5.0,1.0,1.0,1.0,2.0,1.0,1.0,3.0,9.0,1.0,4.0,2.0,2.0,1.0,4.0,1.0,1.0,1.0,1.0,1.0,6.0,1.0,1.0,1.0,1.0,1.0,1.0,1.0,3.0,1.0,2.0,1.0,3.0,1.0,1.0,2.0,1.0,1.0,1.0,2.0,1.0,1.0,2.0,1.0,1.0,1.0,1.0,2.0,1.0,1.0,1.0,1.0,2.0,3.0,1.0,1.0,1.0,1.0,8.0,4.0,1.0,1.0,3.0,1.0,1.0,1.0,2.0,1.0,1.0,2.0,1.0,3.0,1.0,1.0,2.0,1.0,1.0,1.0,1.0,5.0,1.0,1.0,1.0,7.0,1.0,1.0,1.0,1.0,1.0,2.0,1.0,7.0,2.0,1.0,7.0,1.0,1.0,1.0,1.0,5.0,2.0,1.0,1.0,1.0,1.0,1.0,1.0,3.0,3.0,8.0,1.0,3.0,1.0,7.0,1.0,1.0,2.0,1.0,3.0,3.0,3.0,2.0,6.0,1.0,6.0,1.0,1.0,2.0,1.0,1.0,1.0,3.0,1.0,1.0,3.0,1.0,1.0,1.0,1.0,1.0,1.0,1.0,1.0,2.0,1.0,1.0,1.0,1.0,2.0,1.0,1.0,1.0,3.0,8.0,1.0,1.0,1.0,4.0,1.0,1.0,1.0,1.0,1.0,1.0,15.0,1.0,1.0,1.0,1.0,3.0,7.0,3.0,1.0,1.0,1.0,5.0,1.0,1.0,1.0,1.0,1.0,2.0,1.0,4.0,1.0,1.0,5.0,1.0,4.0,1.0,1.0,2.0,3.0,1.0,1.0,1.0,1.0,1.0,1.0,2.0,1.0,1.0,1.0],\"yaxis\":\"y\",\"type\":\"scattergl\"},{\"hovertemplate\":\"\\u003cb\\u003e%{hovertext}\\u003c\\u002fb\\u003e\\u003cbr\\u003e\\u003cbr\\u003eFree\\u002fPaid\\u002fOther=Free\\u003cbr\\u003ePricing=%{x}\\u003cbr\\u003eNumber of Reviews=%{y}\\u003cextra\\u003e\\u003c\\u002fextra\\u003e\",\"hovertext\":[\"Adobe Enhance Speech\",\"Agentgpt\",\"Agentrunner.Ai\",\"Ai Bot\",\"Ai Cards\",\"Ai Chatbot\",\"Ai Code Mentor\",\"Ai Cowriter\",\"Ai Domain Genius\",\"Ai Gallery\",\"Ai Html Generator - California Markup\",\"Ai Input\",\"Ai Mafia\",\"Ai Meal Planner\",\"Ai Meme\",\"Ai Poem Generator\",\"Ai Portrait Generator\",\"Ai Post Generator\",\"Ai Resource Finder Tool\",\"Ai Resume Checker\",\"Ai Story\",\"Ai Swot Analysis\",\"Ai Templates\",\"Ai Toolbox For Innovators\",\"Ai Transcription By Riverside\",\"Ai:Jd\",\"Aiart.Dev\",\"Aicardshop\",\"Aiphotoeditor\",\"Airops\",\"Aisixteen\",\"Aiter.Io\",\"Aitinerary\",\"Aitubo\",\"Ai|Coustics\",\"Alphy\",\"Ambience\",\"Andi\",\"Angry Email Translator\",\"Animated Drawings \",\"Anonchatgpt\",\"Any Summary\",\"Aomni\",\"Applaime\",\"Arcwise Ai\",\"Artflow Ai\",\"Article Summarizer\",\"Article Summary\",\"Artificial Intelligence Songwriter\",\"Artificial Printer\",\"Artimator\",\"Ask Ai Lawyer\",\"Ask Buffet Anything\",\"Ask Experts Ai\",\"Ask Marcus Aurelius\",\"Ask2End\",\"Askgpt\",\"Askmidjourney\",\"Author Of Poems\",\"Auto Gpt\",\"Autodraw\",\"Autool\",\"Avaturn\",\"Baba Selo\",\"Babs\",\"Baby Agi\",\"Background.Lol\",\"Barcode.So\",\"Bard For Google Pro\",\"Bardeen Ai\",\"Be My Chef\",\"Bestflights\",\"Bgsub\",\"Bing Image Creator\",\"Bizideas\",\"Bizzart\",\"Blinknshop\",\"Blogtweet\",\"Bluewillow\",\"Booksai\",\"Booom.Ai\",\"Boring Report\",\"Bright Eye\",\"Browsegpt\",\"Captiongen\",\"Captiongenerator\",\"Careered Ai\",\"Careerhub Ai\",\"Caricaturer.Io\",\"Casper Ai\",\"Census Gpt\",\"Chad Gpt\",\"Character Ai\",\"Charlie\",\"Chat Prompt Genius\",\"Chatavatar\",\"Chatba\",\"Chatbot Ui\",\"Chatcad\",\"Chatcareer\",\"Chatdoc\",\"Chatgenie\",\"Chatgpt For Youtube\",\"Chatgpt In Google Sheets\",\"Chatgpt Linkedin Email Generator\",\"Chatgpt Sidebar\",\"Chatgpt Widescreen Mode\",\"Chatgpt Writer\",\"Chatgpt-2D\",\"Chatgpt.Js\",\"Chathub\",\"Chatlit Codes\",\"Chatmosphere\",\"Chatnbx\",\"Chatwithpdf\",\"Cheapgpt\",\"Checkforai\",\"Chilloutai\",\"Chirper.Ai\",\"Civitai\",\"Claros\",\"Classpoint Ai\",\"Clonedub\",\"Coco\",\"Code Assist\",\"Codeamigo\",\"Codegeex\",\"Codeium\",\"Cognosys\",\"Coinfeeds\",\"Collie Ai\",\"Color Anything\",\"Colormagic\",\"Confbrew\",\"Consensus\",\"Consumerai\",\"Content Generator\",\"Contentdetector.Ai\",\"Coolmindmaps\",\"Corrector App\",\"Cosmic Whisper Ai\",\"Coverlettergpt\",\"Craiyon\",\"Creatus.Ai\",\"Crucible\",\"Cuppa\",\"Current Ai\",\"Deap Learning Labs\",\"Debugcode\",\"Decision Mentor\",\"Deepfacelab\",\"Deepreview\",\"Deepsheet\",\"Depth\",\"Dezgo\",\"Dishgen\",\"Docanalyzer\",\"Docnavigator\",\"Doctrina Ai\",\"Docudo\",\"Domain Tools\",\"Doogle Ai\",\"Dream Interpreter\",\"Dreamlike.Art\",\"Dreamore\",\"Dropchat\",\"Drumloop Ai\",\"Dumm-E\",\"Easyprompt\",\"Ebsynth\",\"Ecommerce Prompt Generator\",\"Edit Anything\",\"Edit At Scale\",\"Editeur\",\"Editgpt\",\"Eesel\",\"Elicit\",\"Embedditor\",\"Emdash\",\"Enterpix\",\"Epagestore.Ai\",\"Equalto\",\"Erase It\",\"Essay-Builder.Ai\",\"Evelynai\",\"Evercopy\",\"Evolv\",\"Explainpaper\",\"Facecheck Id\",\"Facefiesta.Io\",\"Facial Assessment Tool\",\"Fantoons\",\"Fastgpt\",\"Feathery Ai\",\"Feyn\",\"Final Touch\",\"Finalle\",\"Finchat.Io\",\"Find Your Next Book\",\"Findgiftsfor\",\"Findsight Ai\",\"Fitforge\",\"Fixblurry.Photos\",\"Flash Insights\",\"Flashcardx\",\"Flippit\",\"Fordi Ai\",\"Formulachatgpt\",\"Fraimebot\",\"Free Blog Post Generator\",\"Free Essay Generator\",\"Free Subtitles Ai\",\"Free Text To Speech Online\",\"Free Unlimited Chat Bot\",\"Freeimage.Ai\",\"Frequently.Ai\",\"Freshly.Ai\",\"Fusionai\",\"Future Tools\",\"Futuredesk\",\"Gems\",\"Gen Z Translator\",\"Genera.So\",\"Geniea\",\"Genmo Ai\",\"Get3D (Nvidia)\",\"Getaiway\",\"Getit Ai\",\"Getme.Flights\",\"Ghola\",\"Giftassistant\",\"Gifthuntr\",\"Giftideas Ai\",\"Gimme Summary Ai\",\"Girlfriendgpt\",\"Gist Ai\",\"Gita Gpt\",\"Gitfluence\",\"Glarity\",\"Gling\",\"Google Bard\",\"Gpt For Sheets\",\"Gpt Lab\",\"Gpt Mate\",\"Gpt Minus 1\",\"Gpt Prompt Engineer\",\"Gpt Stick\",\"Gpt Stylist\",\"Gptautobot\",\"Gptform\",\"Grammar Checker\",\"Grammargpt\",\"Graphy Hq\",\"Great Headlines\",\"Hacker News Recap\",\"Hackercast\",\"Happy Mama\",\"Have I Been Encoded\",\"Hayo\",\"Healthgpt\",\"Helper\",\"Henshu.Ai\",\"Herogpt\",\"Heuristica\",\"Heylibby.Ai\",\"Hitchai\",\"Hn Resume To Jobs\",\"Hoku\",\"Hoopsai\",\"Hotcheck\",\"Howtoreplyto\",\"Humata Ai\",\"Hypeindex\",\"Iask.Ai\",\"Ib Monograph Assistant\",\"Ichatwithgpt\",\"Ideasai\",\"Ilmui.Dev\",\"Image Candy\",\"Image Maker\",\"Imagetocaption.Ai\",\"Imagetocartoon\",\"Img-Cut\",\"Indiagpt\",\"Infinite Drum\",\"Inputai\",\"Insight Journal\",\"Insightful\",\"Intently\",\"Interestedinai\",\"Interviewai\",\"Invicta Ai\",\"Ipic.Ai\",\"Is It Made Up\",\"Ittybrief\",\"Jeffrey Celavie\",\"Jema.Ai\",\"Jet Cut Ready\",\"Jit.Codes\",\"Joypanner\",\"Just Prompts\",\"K8Sgpt\",\"Keymate\",\"Konjer\",\"Krea\",\"Kuart\",\"Language Checker\",\"Lazyeyefix Photo Editor\",\"Leap Touch\",\"Learningloop\",\"Learningstudioai\",\"Learnlingo\",\"Learnsmarter.Ai\",\"Leet Resumes\",\"Leny\",\"Light\",\"Lingosync\",\"Listicle Club\",\"Literally Anything\",\"Llamachat\",\"Logicballs\",\"Logo Mockup\",\"Love Leetr\",\"Lucidpic\",\"Lumina\",\"Luminaries\",\"Machinetranslation\",\"Mage\",\"Magic Copy\",\"Magify.Design\",\"Mailmaestro\",\"Make My Workout\",\"Makepose\",\"Maketales\",\"Mancoding\",\"Mapdeduce\",\"Maps Gpt\",\"Markmyimages\",\"Maroofy\",\"Marvin\",\"Mayday\",\"Meatgpt\",\"Medical Chat\",\"Medium Jailbreak\",\"Mergeml\",\"Merlin\",\"Meshy\",\"Microapp Ai\",\"Microsoft Bing\",\"Midjourney Prompt Helper\",\"Midjourney Prompts Journey\",\"Mimir\",\"Mindguide\",\"Mindmate\",\"Mindmategpt\",\"Mindos\",\"Mindstudio\",\"Mindsum Ai\",\"Modif\",\"Moodplaylist.Com\",\"Movietoemoji\",\"Moviewiser\",\"My Story Elf\",\"Mymealplan\",\"Mynd\",\"Myqueue\",\"Myvocal Ai\",\"Name Generator\",\"Namecheap Logo Maker\",\"Namelix\",\"Natural Language Playlist\",\"Naval Ai\",\"Newsgpt\",\"Newsnotfound\",\"Newtype Ai\",\"Nextatlas\",\"Nolanai\",\"Noowai\",\"Novel\",\"Nüz\",\"Object Remover\",\"One Click Article Creator\",\"One More Ai\",\"Onesta Ai\",\"Open Assistant\",\"Openai Text Classifier\",\"Openchat\",\"Opera One Browser\",\"Optimin\",\"Ortus\",\"Paint Ai\",\"Paintit.Ai\",\"Paperbrain\",\"Papertalk.Io\",\"Parabrain\",\"Parallelgpt\",\"Parrot Ai\",\"Parsagon\",\"Partly\",\"Pathfinder\",\"Pathway.Ai\",\"Patience\",\"Pawmenow\",\"Pdf Ai\",\"Peach\",\"Perplexity Ai\",\"Pfpmaker\",\"Pheeds Prompt Silo\",\"Phenaki\",\"Phind\",\"Pi\",\"Picapiu\",\"Picfinder\",\"Piggy Magic\",\"Pionexgpt\",\"Pixai.Art\",\"Pixela Ai\",\"Plantripai\",\"Plantrips\",\"Playarti\",\"Playbooks\",\"Podcast\",\"Podscribe\",\"Poemacrostic\",\"Pollinations\",\"Popcornai\",\"Portal\",\"Postgenius\",\"Powermode Ai\",\"Practicetalking\",\"Praxy Ai\",\"Probeai\",\"Productbot\",\"Producthunt Ai\",\"Productivegpt\",\"Professionalize It To Me\",\"Project.Supplies\",\"Prompt Apps\",\"Prompt Attack\",\"Prompt Journey\",\"Prompt Perfect\",\"Prompt Storm\",\"Prompta\",\"Promptden\",\"Promptdrive.Ai\",\"Promptheus\",\"Promptify Editor\",\"Promptmetheus\",\"Promptomania\",\"Pseudo\",\"Punchlines.Ai\",\"Qr Craft\",\"Qreative Ai\",\"Quantplus\",\"Queros\",\"Quick Reply\",\"Quicktask Ai\",\"Quickwit\",\"Quiz Wizard\",\"Quriosity\",\"Rabbi Ai\",\"Realismgpt\",\"Realtyninja\",\"Recraft\",\"Reemix.Co\",\"Reimagine Home\",\"Rephraser Ai\",\"Replicate Codex\",\"Research Buddy\",\"Restorephotos\",\"Resume Reviewer\",\"Resumetrick\",\"Rewriteit Ai\",\"Riffit Reader\",\"Riffusion\",\"Rizemail\",\"Rizz\",\"Rizzgpt\",\"Roamaround\",\"Roboweb\",\"Roughly\",\"Rytar\",\"Safurai\",\"Samwell Ai\",\"Scribble Diffusion\",\"Scribbler\",\"Scrip Ai\",\"Searcholic\",\"Segment Anything\",\"Segmentle\",\"Selfgazer\",\"Sendspark\",\"Seotools \",\"Shako\",\"Sheldon Ai \",\"Shopmate\",\"Shopwithai\",\"Sidekick\",\"Siteexplainer\",\"Siwalu\",\"Sketch\",\"Skoot\",\"Skybox Lab\",\"Slang Thesaurus\",\"Snack Prompt\",\"Snapdress\",\"Social Gpt\",\"Socialbob\",\"Socialite Ai\",\"Solidpoint\",\"Songr\",\"Songs Like X\",\"Spellpage\",\"Spinreactor\",\"Staiyl\",\"Steno\",\"Sticky\",\"Stockgpt\",\"Stocknews Ai\",\"Storia Textify\",\"Storybird\",\"Storybooks\",\"Stratup.Ai\",\"Streaming Options\",\"Studycrumb\",\"Stupidgpt\",\"Subject Line Generator\",\"Suggestai\",\"Summarist\",\"Summarized.Video\",\"Summarizepaper\",\"Summarizethis\",\"Summarizr\",\"Sumz Ai\",\"Suno Ai Bark\",\"Superagi\",\"Supermanage Ai\",\"Superpower Chatgpt\",\"Sutro\",\"Tabirim\",\"Taggy\",\"Taiga\",\"Talk To Books\",\"Talkpal\",\"Talktohim\",\"Talktovid\",\"Tammy Ai\",\"Taskabai\",\"Teachprompt\",\"Techcrunch Summary\",\"Text2Sql\",\"Textero Ai\",\"Textraction\",\"Thatshallot\",\"The Dreamkeeper\",\"The Excuse Generator\",\"There'S A Prompt For That\",\"Thumbnailai\",\"Tinderprofile.Ai\",\"Tinywow\",\"Todobot\",\"Tome\",\"Toolbuilder\",\"Tooltips Ai\",\"Top Vs Best\",\"Torq\",\"Traivl\",\"Transpic\",\"Transvribe\",\"Travel Plan Ai\",\"Traverse Ai™\",\"Tripplanner Ai \",\"Triptip\",\"Trivai\",\"Trumpet House\",\"Tts.Monster\",\"Ttsmaker\",\"Tuliaa\",\"Tuneflow\",\"Twee\",\"Twig\",\"Typpo\",\"Uberduck\",\"Undetectablegpt\",\"Unholy.Ai\",\"Unicorn Platform\",\"Unlimitedbg\",\"Unlimitedgpt\",\"Upscayl\",\"Validator Ai\",\"Venturusai\",\"Verbaly\",\"Video Highlight\",\"Video2Text\",\"Vieutopia\",\"Vinetribe\",\"Viral Post Generator\",\"Virtual Ai Girlfriend\",\"Vizard\",\"Vizcom\",\"Vooyai\",\"Wallpapers.Fyi\",\"Watchnow Ai\",\"Wayfind\",\"Webcopilot.Ai\",\"Welltested\",\"What Does This Code Do?\",\"What On Earth?\",\"Whatthebeat\",\"Where To\",\"Windows Copilot\",\"Wisdolia\",\"Wisdomai\",\"Wisedata\",\"Wiseone\",\"Wnr.Ai\",\"Wonderplan\",\"Workplaceai\",\"Write My Essays Ai\",\"Write Tone\",\"Writerelease\",\"Wrpup\",\"Wtf Does This Company Do?\",\"Yc Funding Assistant\",\"You Got Cooking\",\"Your Giftwhisperer\",\"Yourdoctor Ai\",\"Yoursearch.Ai\",\"Youtalk\",\"Zaplingo\",\"Zapt\",\"Zerogpt\",\"Zipzap\"],\"legendgroup\":\"Free\",\"marker\":{\"color\":\"#ab63fa\",\"symbol\":\"circle\"},\"mode\":\"markers\",\"name\":\"Free\",\"showlegend\":true,\"x\":[null,null,0.0,null,null,null,null,null,null,null,null,null,null,null,null,null,null,null,null,null,null,null,null,null,null,null,null,null,null,null,null,null,null,null,null,null,null,null,null,null,null,null,null,null,null,null,null,null,null,null,null,null,null,null,0.0,null,null,null,null,null,null,null,null,0.0,null,null,null,null,null,null,null,null,null,null,null,null,null,null,null,null,null,null,null,null,null,null,null,null,null,null,null,null,null,null,null,null,null,null,null,null,0.0,null,null,null,null,null,null,null,null,null,null,null,null,null,null,null,null,null,null,null,null,null,null,null,0.0,null,9.0,null,null,null,null,null,null,null,null,null,null,null,null,29.0,null,null,null,null,null,null,null,null,null,null,null,null,null,null,null,null,null,null,null,null,0.0,25.0,null,15.0,null,null,null,null,null,null,null,null,null,null,null,null,null,null,null,null,null,null,null,null,null,null,null,null,null,null,null,null,null,null,null,null,null,null,null,null,null,null,null,null,null,null,null,null,null,null,null,null,null,null,null,null,null,null,null,0.0,null,null,null,null,null,null,null,null,null,null,null,null,null,null,null,null,null,null,null,5.0,null,null,null,null,null,null,null,null,null,null,null,null,null,null,null,null,null,null,0.0,null,null,null,null,null,null,null,null,null,null,null,null,null,null,null,null,null,null,null,null,null,null,4.0,null,null,null,null,null,null,null,null,null,null,null,null,null,null,null,null,null,null,null,null,null,null,null,null,null,null,null,null,null,null,null,null,null,null,null,null,null,null,null,null,null,null,null,null,null,null,null,null,null,null,null,null,null,null,null,null,null,null,null,null,null,null,null,null,null,null,null,null,null,null,null,null,null,null,null,null,null,null,null,null,null,null,null,null,null,4.0,null,null,null,null,null,null,null,null,null,0.0,null,null,null,null,null,null,null,null,null,null,null,null,null,null,null,null,null,null,null,null,null,null,null,null,null,null,null,null,null,null,null,null,null,null,null,null,null,null,null,12.0,null,null,null,null,null,null,null,null,null,null,null,null,null,null,null,null,null,null,null,null,0.0,null,null,null,null,null,null,null,null,null,null,null,null,null,null,null,null,null,null,null,null,null,null,null,79.0,null,null,null,null,null,null,null,null,null,null,null,null,null,null,null,null,null,null,null,null,null,null,null,null,null,null,null,null,null,null,null,null,null,null,null,0.0,null,null,null,null,null,null,null,null,null,null,null,null,null,null,null,null,null,null,null,null,null,null,null,null,null,null,null,null,null,null,null,null,null,null,null,null,null,null,null,null,null,null,null,null,null,null,null,null,null,null,null,null,null,null,null,null,null,null,null,null,null,null,null,null,null,null,null,null,null,null,null,null,null,null,null,null,null,null,null,null,null,null,null,null,null,null,8.0,null,null,null,null,null,null,null,null,null,null,null,null,null,null,null,null,null,null,null,null,null,null,null,null,null,null,null,null,null,0.0,null,null,null,null,null,null,null,null,null,null,null,null,null,null,null,null,null],\"xaxis\":\"x\",\"y\":[1.0,2.0,3.0,1.0,1.0,1.0,3.0,1.0,1.0,1.0,2.0,1.0,2.0,1.0,3.0,1.0,3.0,2.0,2.0,1.0,7.0,2.0,4.0,4.0,10.0,1.0,2.0,1.0,3.0,1.0,1.0,14.0,1.0,2.0,1.0,1.0,1.0,8.0,3.0,3.0,1.0,2.0,1.0,1.0,1.0,2.0,1.0,3.0,1.0,1.0,2.0,2.0,1.0,2.0,1.0,2.0,8.0,2.0,2.0,3.0,4.0,1.0,2.0,5.0,1.0,2.0,1.0,3.0,4.0,1.0,1.0,1.0,1.0,3.0,2.0,1.0,1.0,1.0,2.0,3.0,1.0,1.0,10.0,1.0,1.0,1.0,1.0,3.0,1.0,2.0,1.0,1.0,1.0,3.0,1.0,2.0,1.0,1.0,3.0,1.0,3.0,1.0,2.0,2.0,2.0,1.0,3.0,2.0,1.0,2.0,1.0,1.0,1.0,6.0,1.0,7.0,1.0,3.0,1.0,2.0,1.0,6.0,4.0,1.0,1.0,1.0,1.0,8.0,3.0,1.0,1.0,1.0,1.0,1.0,1.0,1.0,1.0,1.0,1.0,1.0,1.0,3.0,1.0,3.0,3.0,1.0,1.0,1.0,1.0,2.0,1.0,1.0,3.0,1.0,1.0,2.0,2.0,1.0,1.0,4.0,2.0,2.0,3.0,2.0,3.0,1.0,2.0,2.0,1.0,1.0,2.0,2.0,1.0,1.0,1.0,1.0,1.0,1.0,3.0,1.0,1.0,1.0,3.0,5.0,1.0,1.0,8.0,1.0,1.0,1.0,3.0,1.0,1.0,2.0,3.0,3.0,2.0,8.0,1.0,1.0,1.0,3.0,2.0,1.0,3.0,2.0,2.0,1.0,1.0,2.0,4.0,5.0,7.0,4.0,1.0,2.0,2.0,1.0,1.0,1.0,1.0,1.0,1.0,1.0,2.0,2.0,1.0,4.0,2.0,1.0,1.0,1.0,2.0,2.0,1.0,4.0,2.0,1.0,6.0,1.0,3.0,1.0,1.0,1.0,1.0,3.0,1.0,1.0,1.0,2.0,1.0,2.0,1.0,1.0,1.0,1.0,1.0,1.0,1.0,4.0,1.0,1.0,1.0,3.0,1.0,1.0,1.0,1.0,3.0,1.0,1.0,3.0,1.0,2.0,1.0,2.0,2.0,1.0,1.0,6.0,2.0,1.0,1.0,3.0,1.0,1.0,1.0,3.0,1.0,2.0,1.0,2.0,2.0,1.0,1.0,2.0,1.0,1.0,2.0,2.0,2.0,1.0,2.0,1.0,1.0,1.0,1.0,1.0,1.0,1.0,3.0,1.0,1.0,3.0,1.0,1.0,4.0,1.0,6.0,1.0,4.0,1.0,1.0,2.0,1.0,1.0,3.0,1.0,2.0,5.0,3.0,2.0,1.0,1.0,1.0,1.0,1.0,1.0,2.0,1.0,1.0,1.0,8.0,1.0,1.0,1.0,1.0,1.0,1.0,2.0,1.0,1.0,1.0,1.0,2.0,6.0,1.0,1.0,1.0,1.0,2.0,2.0,3.0,1.0,1.0,4.0,2.0,1.0,7.0,6.0,1.0,2.0,1.0,1.0,1.0,1.0,2.0,1.0,1.0,1.0,3.0,1.0,1.0,1.0,1.0,1.0,3.0,1.0,1.0,3.0,1.0,7.0,2.0,1.0,1.0,1.0,1.0,1.0,1.0,4.0,1.0,1.0,2.0,1.0,1.0,1.0,2.0,1.0,3.0,3.0,1.0,1.0,2.0,8.0,1.0,1.0,1.0,1.0,2.0,1.0,1.0,1.0,1.0,2.0,2.0,1.0,1.0,1.0,4.0,1.0,1.0,1.0,1.0,1.0,2.0,1.0,6.0,1.0,1.0,1.0,1.0,1.0,1.0,2.0,3.0,1.0,1.0,1.0,1.0,1.0,1.0,1.0,2.0,2.0,1.0,1.0,2.0,1.0,1.0,6.0,1.0,1.0,1.0,4.0,2.0,3.0,2.0,1.0,2.0,1.0,3.0,1.0,3.0,2.0,4.0,1.0,1.0,2.0,3.0,1.0,2.0,1.0,2.0,6.0,1.0,1.0,1.0,4.0,2.0,2.0,1.0,1.0,2.0,2.0,1.0,1.0,1.0,6.0,3.0,1.0,1.0,1.0,4.0,2.0,4.0,1.0,1.0,2.0,1.0,2.0,5.0,2.0,1.0,1.0,1.0,1.0,2.0,1.0,1.0,1.0,2.0,1.0,4.0,1.0,1.0,1.0,1.0,1.0,3.0,2.0,1.0,1.0,1.0,1.0,1.0,1.0,1.0,2.0,1.0,2.0,7.0,1.0,1.0,4.0,2.0,1.0,9.0,1.0,1.0,1.0,1.0,14.0,2.0,1.0,2.0,1.0,1.0,1.0,1.0,2.0,2.0,5.0,1.0,1.0,2.0,5.0,9.0,2.0,2.0,2.0,1.0,2.0,2.0,2.0,2.0,1.0,9.0,1.0,1.0,1.0,1.0,4.0,2.0,2.0,1.0,1.0,2.0,10.0,2.0,3.0,1.0,2.0,3.0,1.0,1.0,1.0,1.0,2.0,1.0,1.0,1.0,2.0,1.0,2.0,2.0,1.0,1.0,1.0,1.0,3.0,1.0,1.0,1.0,1.0,1.0,3.0,1.0,1.0,1.0,1.0,2.0,1.0,2.0,1.0,2.0,1.0,1.0,4.0,1.0,2.0,3.0,1.0,2.0],\"yaxis\":\"y\",\"type\":\"scattergl\"},{\"hovertemplate\":\"\\u003cb\\u003e%{hovertext}\\u003c\\u002fb\\u003e\\u003cbr\\u003e\\u003cbr\\u003eFree\\u002fPaid\\u002fOther=Contact for Pricing\\u003cbr\\u003ePricing=%{x}\\u003cbr\\u003eNumber of Reviews=%{y}\\u003cextra\\u003e\\u003c\\u002fextra\\u003e\",\"hovertext\":[\"Avanazai\",\"Build Ai\",\"Certainly\",\"Chattysurvey\",\"Dreamfusion\",\"Eleven Labs\",\"Evolia Protocol\",\"Feedbird\",\"Galileo\",\"Hypergro\",\"Lettria\",\"Lex\",\"Medinav\",\"Meru\",\"Noa Coach Ai\",\"Oatmealhealth\",\"Opus\",\"Poe\",\"Razoroo | Ai Recruiting\",\"Sista.Ai\",\"Tekst.Ai\",\"Truewind\",\"Turncage\",\"Unionx\",\"Vairflow\",\"Vectara\",\"Versy.Ai\",\"Voxwave Ai\",\"Zoom Iq\"],\"legendgroup\":\"Contact for Pricing\",\"marker\":{\"color\":\"#FFA15A\",\"symbol\":\"circle\"},\"mode\":\"markers\",\"name\":\"Contact for Pricing\",\"showlegend\":true,\"x\":[null,null,null,null,null,22.0,null,null,null,null,null,null,null,null,null,null,null,null,null,null,null,null,null,null,null,null,null,null,null],\"xaxis\":\"x\",\"y\":[1.0,1.0,1.0,2.0,1.0,1.0,1.0,1.0,1.0,1.0,1.0,1.0,1.0,1.0,1.0,1.0,1.0,1.0,1.0,1.0,1.0,1.0,1.0,1.0,1.0,1.0,1.0,1.0,2.0],\"yaxis\":\"y\",\"type\":\"scattergl\"},{\"hovertemplate\":\"\\u003cb\\u003e%{hovertext}\\u003c\\u002fb\\u003e\\u003cbr\\u003e\\u003cbr\\u003eFree\\u002fPaid\\u002fOther=Free-Trial | Paid\\u003cbr\\u003ePricing=%{x}\\u003cbr\\u003eNumber of Reviews=%{y}\\u003cextra\\u003e\\u003c\\u002fextra\\u003e\",\"hovertext\":[\"Copymatic\",\"Personal.Ai\"],\"legendgroup\":\"Free-Trial | Paid\",\"marker\":{\"color\":\"#19d3f3\",\"symbol\":\"circle\"},\"mode\":\"markers\",\"name\":\"Free-Trial | Paid\",\"showlegend\":true,\"x\":[32.0,40.0],\"xaxis\":\"x\",\"y\":[1.0,1.0],\"yaxis\":\"y\",\"type\":\"scattergl\"},{\"hovertemplate\":\"\\u003cb\\u003e%{hovertext}\\u003c\\u002fb\\u003e\\u003cbr\\u003e\\u003cbr\\u003eFree\\u002fPaid\\u002fOther=Freemium | Deals\\u003cbr\\u003ePricing=%{x}\\u003cbr\\u003eNumber of Reviews=%{y}\\u003cextra\\u003e\\u003c\\u002fextra\\u003e\",\"hovertext\":[\"Durable\",\"Easy-Peasy.Ai\",\"Fliki\",\"Looka\",\"Yaara\"],\"legendgroup\":\"Freemium | Deals\",\"marker\":{\"color\":\"#FF6692\",\"symbol\":\"circle\"},\"mode\":\"markers\",\"name\":\"Freemium | Deals\",\"showlegend\":true,\"x\":[15.0,3.0,8.0,20.0,8.0],\"xaxis\":\"x\",\"y\":[8.0,4.0,7.0,8.0,1.0],\"yaxis\":\"y\",\"type\":\"scattergl\"},{\"hovertemplate\":\"\\u003cb\\u003e%{hovertext}\\u003c\\u002fb\\u003e\\u003cbr\\u003e\\u003cbr\\u003eFree\\u002fPaid\\u002fOther=Free-Trial | Deals\\u003cbr\\u003ePricing=%{x}\\u003cbr\\u003eNumber of Reviews=%{y}\\u003cextra\\u003e\\u003c\\u002fextra\\u003e\",\"hovertext\":[\"Eloise\",\"Uptrends.Ai\"],\"legendgroup\":\"Free-Trial | Deals\",\"marker\":{\"color\":\"#B6E880\",\"symbol\":\"circle\"},\"mode\":\"markers\",\"name\":\"Free-Trial | Deals\",\"showlegend\":true,\"x\":[5.0,9.0],\"xaxis\":\"x\",\"y\":[3.0,11.0],\"yaxis\":\"y\",\"type\":\"scattergl\"},{\"hovertemplate\":\"\\u003cb\\u003e%{hovertext}\\u003c\\u002fb\\u003e\\u003cbr\\u003e\\u003cbr\\u003eFree\\u002fPaid\\u002fOther=Freemium |Contact for Pricing\\u003cbr\\u003ePricing=%{x}\\u003cbr\\u003eNumber of Reviews=%{y}\\u003cextra\\u003e\\u003c\\u002fextra\\u003e\",\"hovertext\":[\"Folktalk\"],\"legendgroup\":\"Freemium |Contact for Pricing\",\"marker\":{\"color\":\"#FF97FF\",\"symbol\":\"circle\"},\"mode\":\"markers\",\"name\":\"Freemium |Contact for Pricing\",\"showlegend\":true,\"x\":[null],\"xaxis\":\"x\",\"y\":[1.0],\"yaxis\":\"y\",\"type\":\"scattergl\"},{\"hovertemplate\":\"\\u003cb\\u003e%{hovertext}\\u003c\\u002fb\\u003e\\u003cbr\\u003e\\u003cbr\\u003eFree\\u002fPaid\\u002fOther=Paid |Free-Trial\\u003cbr\\u003ePricing=%{x}\\u003cbr\\u003eNumber of Reviews=%{y}\\u003cextra\\u003e\\u003c\\u002fextra\\u003e\",\"hovertext\":[\"Heyday\"],\"legendgroup\":\"Paid |Free-Trial\",\"marker\":{\"color\":\"#FECB52\",\"symbol\":\"circle\"},\"mode\":\"markers\",\"name\":\"Paid |Free-Trial\",\"showlegend\":true,\"x\":[19.0],\"xaxis\":\"x\",\"y\":[1.0],\"yaxis\":\"y\",\"type\":\"scattergl\"},{\"hovertemplate\":\"\\u003cb\\u003e%{hovertext}\\u003c\\u002fb\\u003e\\u003cbr\\u003e\\u003cbr\\u003eFree\\u002fPaid\\u002fOther=Free-Trial | Freemium\\u003cbr\\u003ePricing=%{x}\\u003cbr\\u003eNumber of Reviews=%{y}\\u003cextra\\u003e\\u003c\\u002fextra\\u003e\",\"hovertext\":[\"Paraphraser\",\"Predis\",\"Upword\"],\"legendgroup\":\"Free-Trial | Freemium\",\"marker\":{\"color\":\"#636efa\",\"symbol\":\"circle\"},\"mode\":\"markers\",\"name\":\"Free-Trial | Freemium\",\"showlegend\":true,\"x\":[4.0,20.0,null],\"xaxis\":\"x\",\"y\":[1.0,1.0,1.0],\"yaxis\":\"y\",\"type\":\"scattergl\"},{\"hovertemplate\":\"\\u003cb\\u003e%{hovertext}\\u003c\\u002fb\\u003e\\u003cbr\\u003e\\u003cbr\\u003eFree\\u002fPaid\\u002fOther=Free | Freemium | Paid\\u003cbr\\u003ePricing=%{x}\\u003cbr\\u003eNumber of Reviews=%{y}\\u003cextra\\u003e\\u003c\\u002fextra\\u003e\",\"hovertext\":[\"Ttslabs\"],\"legendgroup\":\"Free | Freemium | Paid\",\"marker\":{\"color\":\"#EF553B\",\"symbol\":\"circle\"},\"mode\":\"markers\",\"name\":\"Free | Freemium | Paid\",\"showlegend\":true,\"x\":[null],\"xaxis\":\"x\",\"y\":[1.0],\"yaxis\":\"y\",\"type\":\"scattergl\"},{\"hovertemplate\":\"\\u003cb\\u003e%{hovertext}\\u003c\\u002fb\\u003e\\u003cbr\\u003e\\u003cbr\\u003eFree\\u002fPaid\\u002fOther=Deals\\u003cbr\\u003ePricing=%{x}\\u003cbr\\u003eNumber of Reviews=%{y}\\u003cextra\\u003e\\u003c\\u002fextra\\u003e\",\"hovertext\":[\"Xinva\"],\"legendgroup\":\"Deals\",\"marker\":{\"color\":\"#00cc96\",\"symbol\":\"circle\"},\"mode\":\"markers\",\"name\":\"Deals\",\"showlegend\":true,\"x\":[39.0],\"xaxis\":\"x\",\"y\":[3.0],\"yaxis\":\"y\",\"type\":\"scattergl\"}],                        {\"template\":{\"data\":{\"histogram2dcontour\":[{\"type\":\"histogram2dcontour\",\"colorbar\":{\"outlinewidth\":0,\"ticks\":\"\"},\"colorscale\":[[0.0,\"#0d0887\"],[0.1111111111111111,\"#46039f\"],[0.2222222222222222,\"#7201a8\"],[0.3333333333333333,\"#9c179e\"],[0.4444444444444444,\"#bd3786\"],[0.5555555555555556,\"#d8576b\"],[0.6666666666666666,\"#ed7953\"],[0.7777777777777778,\"#fb9f3a\"],[0.8888888888888888,\"#fdca26\"],[1.0,\"#f0f921\"]]}],\"choropleth\":[{\"type\":\"choropleth\",\"colorbar\":{\"outlinewidth\":0,\"ticks\":\"\"}}],\"histogram2d\":[{\"type\":\"histogram2d\",\"colorbar\":{\"outlinewidth\":0,\"ticks\":\"\"},\"colorscale\":[[0.0,\"#0d0887\"],[0.1111111111111111,\"#46039f\"],[0.2222222222222222,\"#7201a8\"],[0.3333333333333333,\"#9c179e\"],[0.4444444444444444,\"#bd3786\"],[0.5555555555555556,\"#d8576b\"],[0.6666666666666666,\"#ed7953\"],[0.7777777777777778,\"#fb9f3a\"],[0.8888888888888888,\"#fdca26\"],[1.0,\"#f0f921\"]]}],\"heatmap\":[{\"type\":\"heatmap\",\"colorbar\":{\"outlinewidth\":0,\"ticks\":\"\"},\"colorscale\":[[0.0,\"#0d0887\"],[0.1111111111111111,\"#46039f\"],[0.2222222222222222,\"#7201a8\"],[0.3333333333333333,\"#9c179e\"],[0.4444444444444444,\"#bd3786\"],[0.5555555555555556,\"#d8576b\"],[0.6666666666666666,\"#ed7953\"],[0.7777777777777778,\"#fb9f3a\"],[0.8888888888888888,\"#fdca26\"],[1.0,\"#f0f921\"]]}],\"heatmapgl\":[{\"type\":\"heatmapgl\",\"colorbar\":{\"outlinewidth\":0,\"ticks\":\"\"},\"colorscale\":[[0.0,\"#0d0887\"],[0.1111111111111111,\"#46039f\"],[0.2222222222222222,\"#7201a8\"],[0.3333333333333333,\"#9c179e\"],[0.4444444444444444,\"#bd3786\"],[0.5555555555555556,\"#d8576b\"],[0.6666666666666666,\"#ed7953\"],[0.7777777777777778,\"#fb9f3a\"],[0.8888888888888888,\"#fdca26\"],[1.0,\"#f0f921\"]]}],\"contourcarpet\":[{\"type\":\"contourcarpet\",\"colorbar\":{\"outlinewidth\":0,\"ticks\":\"\"}}],\"contour\":[{\"type\":\"contour\",\"colorbar\":{\"outlinewidth\":0,\"ticks\":\"\"},\"colorscale\":[[0.0,\"#0d0887\"],[0.1111111111111111,\"#46039f\"],[0.2222222222222222,\"#7201a8\"],[0.3333333333333333,\"#9c179e\"],[0.4444444444444444,\"#bd3786\"],[0.5555555555555556,\"#d8576b\"],[0.6666666666666666,\"#ed7953\"],[0.7777777777777778,\"#fb9f3a\"],[0.8888888888888888,\"#fdca26\"],[1.0,\"#f0f921\"]]}],\"surface\":[{\"type\":\"surface\",\"colorbar\":{\"outlinewidth\":0,\"ticks\":\"\"},\"colorscale\":[[0.0,\"#0d0887\"],[0.1111111111111111,\"#46039f\"],[0.2222222222222222,\"#7201a8\"],[0.3333333333333333,\"#9c179e\"],[0.4444444444444444,\"#bd3786\"],[0.5555555555555556,\"#d8576b\"],[0.6666666666666666,\"#ed7953\"],[0.7777777777777778,\"#fb9f3a\"],[0.8888888888888888,\"#fdca26\"],[1.0,\"#f0f921\"]]}],\"mesh3d\":[{\"type\":\"mesh3d\",\"colorbar\":{\"outlinewidth\":0,\"ticks\":\"\"}}],\"scatter\":[{\"fillpattern\":{\"fillmode\":\"overlay\",\"size\":10,\"solidity\":0.2},\"type\":\"scatter\"}],\"parcoords\":[{\"type\":\"parcoords\",\"line\":{\"colorbar\":{\"outlinewidth\":0,\"ticks\":\"\"}}}],\"scatterpolargl\":[{\"type\":\"scatterpolargl\",\"marker\":{\"colorbar\":{\"outlinewidth\":0,\"ticks\":\"\"}}}],\"bar\":[{\"error_x\":{\"color\":\"#2a3f5f\"},\"error_y\":{\"color\":\"#2a3f5f\"},\"marker\":{\"line\":{\"color\":\"#E5ECF6\",\"width\":0.5},\"pattern\":{\"fillmode\":\"overlay\",\"size\":10,\"solidity\":0.2}},\"type\":\"bar\"}],\"scattergeo\":[{\"type\":\"scattergeo\",\"marker\":{\"colorbar\":{\"outlinewidth\":0,\"ticks\":\"\"}}}],\"scatterpolar\":[{\"type\":\"scatterpolar\",\"marker\":{\"colorbar\":{\"outlinewidth\":0,\"ticks\":\"\"}}}],\"histogram\":[{\"marker\":{\"pattern\":{\"fillmode\":\"overlay\",\"size\":10,\"solidity\":0.2}},\"type\":\"histogram\"}],\"scattergl\":[{\"type\":\"scattergl\",\"marker\":{\"colorbar\":{\"outlinewidth\":0,\"ticks\":\"\"}}}],\"scatter3d\":[{\"type\":\"scatter3d\",\"line\":{\"colorbar\":{\"outlinewidth\":0,\"ticks\":\"\"}},\"marker\":{\"colorbar\":{\"outlinewidth\":0,\"ticks\":\"\"}}}],\"scattermapbox\":[{\"type\":\"scattermapbox\",\"marker\":{\"colorbar\":{\"outlinewidth\":0,\"ticks\":\"\"}}}],\"scatterternary\":[{\"type\":\"scatterternary\",\"marker\":{\"colorbar\":{\"outlinewidth\":0,\"ticks\":\"\"}}}],\"scattercarpet\":[{\"type\":\"scattercarpet\",\"marker\":{\"colorbar\":{\"outlinewidth\":0,\"ticks\":\"\"}}}],\"carpet\":[{\"aaxis\":{\"endlinecolor\":\"#2a3f5f\",\"gridcolor\":\"white\",\"linecolor\":\"white\",\"minorgridcolor\":\"white\",\"startlinecolor\":\"#2a3f5f\"},\"baxis\":{\"endlinecolor\":\"#2a3f5f\",\"gridcolor\":\"white\",\"linecolor\":\"white\",\"minorgridcolor\":\"white\",\"startlinecolor\":\"#2a3f5f\"},\"type\":\"carpet\"}],\"table\":[{\"cells\":{\"fill\":{\"color\":\"#EBF0F8\"},\"line\":{\"color\":\"white\"}},\"header\":{\"fill\":{\"color\":\"#C8D4E3\"},\"line\":{\"color\":\"white\"}},\"type\":\"table\"}],\"barpolar\":[{\"marker\":{\"line\":{\"color\":\"#E5ECF6\",\"width\":0.5},\"pattern\":{\"fillmode\":\"overlay\",\"size\":10,\"solidity\":0.2}},\"type\":\"barpolar\"}],\"pie\":[{\"automargin\":true,\"type\":\"pie\"}]},\"layout\":{\"autotypenumbers\":\"strict\",\"colorway\":[\"#636efa\",\"#EF553B\",\"#00cc96\",\"#ab63fa\",\"#FFA15A\",\"#19d3f3\",\"#FF6692\",\"#B6E880\",\"#FF97FF\",\"#FECB52\"],\"font\":{\"color\":\"#2a3f5f\"},\"hovermode\":\"closest\",\"hoverlabel\":{\"align\":\"left\"},\"paper_bgcolor\":\"white\",\"plot_bgcolor\":\"#E5ECF6\",\"polar\":{\"bgcolor\":\"#E5ECF6\",\"angularaxis\":{\"gridcolor\":\"white\",\"linecolor\":\"white\",\"ticks\":\"\"},\"radialaxis\":{\"gridcolor\":\"white\",\"linecolor\":\"white\",\"ticks\":\"\"}},\"ternary\":{\"bgcolor\":\"#E5ECF6\",\"aaxis\":{\"gridcolor\":\"white\",\"linecolor\":\"white\",\"ticks\":\"\"},\"baxis\":{\"gridcolor\":\"white\",\"linecolor\":\"white\",\"ticks\":\"\"},\"caxis\":{\"gridcolor\":\"white\",\"linecolor\":\"white\",\"ticks\":\"\"}},\"coloraxis\":{\"colorbar\":{\"outlinewidth\":0,\"ticks\":\"\"}},\"colorscale\":{\"sequential\":[[0.0,\"#0d0887\"],[0.1111111111111111,\"#46039f\"],[0.2222222222222222,\"#7201a8\"],[0.3333333333333333,\"#9c179e\"],[0.4444444444444444,\"#bd3786\"],[0.5555555555555556,\"#d8576b\"],[0.6666666666666666,\"#ed7953\"],[0.7777777777777778,\"#fb9f3a\"],[0.8888888888888888,\"#fdca26\"],[1.0,\"#f0f921\"]],\"sequentialminus\":[[0.0,\"#0d0887\"],[0.1111111111111111,\"#46039f\"],[0.2222222222222222,\"#7201a8\"],[0.3333333333333333,\"#9c179e\"],[0.4444444444444444,\"#bd3786\"],[0.5555555555555556,\"#d8576b\"],[0.6666666666666666,\"#ed7953\"],[0.7777777777777778,\"#fb9f3a\"],[0.8888888888888888,\"#fdca26\"],[1.0,\"#f0f921\"]],\"diverging\":[[0,\"#8e0152\"],[0.1,\"#c51b7d\"],[0.2,\"#de77ae\"],[0.3,\"#f1b6da\"],[0.4,\"#fde0ef\"],[0.5,\"#f7f7f7\"],[0.6,\"#e6f5d0\"],[0.7,\"#b8e186\"],[0.8,\"#7fbc41\"],[0.9,\"#4d9221\"],[1,\"#276419\"]]},\"xaxis\":{\"gridcolor\":\"white\",\"linecolor\":\"white\",\"ticks\":\"\",\"title\":{\"standoff\":15},\"zerolinecolor\":\"white\",\"automargin\":true,\"zerolinewidth\":2},\"yaxis\":{\"gridcolor\":\"white\",\"linecolor\":\"white\",\"ticks\":\"\",\"title\":{\"standoff\":15},\"zerolinecolor\":\"white\",\"automargin\":true,\"zerolinewidth\":2},\"scene\":{\"xaxis\":{\"backgroundcolor\":\"#E5ECF6\",\"gridcolor\":\"white\",\"linecolor\":\"white\",\"showbackground\":true,\"ticks\":\"\",\"zerolinecolor\":\"white\",\"gridwidth\":2},\"yaxis\":{\"backgroundcolor\":\"#E5ECF6\",\"gridcolor\":\"white\",\"linecolor\":\"white\",\"showbackground\":true,\"ticks\":\"\",\"zerolinecolor\":\"white\",\"gridwidth\":2},\"zaxis\":{\"backgroundcolor\":\"#E5ECF6\",\"gridcolor\":\"white\",\"linecolor\":\"white\",\"showbackground\":true,\"ticks\":\"\",\"zerolinecolor\":\"white\",\"gridwidth\":2}},\"shapedefaults\":{\"line\":{\"color\":\"#2a3f5f\"}},\"annotationdefaults\":{\"arrowcolor\":\"#2a3f5f\",\"arrowhead\":0,\"arrowwidth\":1},\"geo\":{\"bgcolor\":\"white\",\"landcolor\":\"#E5ECF6\",\"subunitcolor\":\"white\",\"showland\":true,\"showlakes\":true,\"lakecolor\":\"white\"},\"title\":{\"x\":0.05},\"mapbox\":{\"style\":\"light\"}}},\"xaxis\":{\"anchor\":\"y\",\"domain\":[0.0,1.0],\"title\":{\"text\":\"Pricing\"}},\"yaxis\":{\"anchor\":\"x\",\"domain\":[0.0,1.0],\"title\":{\"text\":\"Number of Reviews\"}},\"legend\":{\"title\":{\"text\":\"Pricing Model\"},\"tracegroupgap\":0},\"title\":{\"text\":\"Scatter Plot of Number of Reviews vs. Pricing\"},\"showlegend\":true},                        {\"responsive\": true}                    ).then(function(){\n",
       "                            \n",
       "var gd = document.getElementById('adfc9185-28f3-4f84-93cb-d1b14ffecbab');\n",
       "var x = new MutationObserver(function (mutations, observer) {{\n",
       "        var display = window.getComputedStyle(gd).display;\n",
       "        if (!display || display === 'none') {{\n",
       "            console.log([gd, 'removed!']);\n",
       "            Plotly.purge(gd);\n",
       "            observer.disconnect();\n",
       "        }}\n",
       "}});\n",
       "\n",
       "// Listen for the removal of the full notebook cells\n",
       "var notebookContainer = gd.closest('#notebook-container');\n",
       "if (notebookContainer) {{\n",
       "    x.observe(notebookContainer, {childList: true});\n",
       "}}\n",
       "\n",
       "// Listen for the clearing of the current output cell\n",
       "var outputEl = gd.closest('.output');\n",
       "if (outputEl) {{\n",
       "    x.observe(outputEl, {childList: true});\n",
       "}}\n",
       "\n",
       "                        })                };                });            </script>        </div>"
      ]
     },
     "metadata": {},
     "output_type": "display_data"
    }
   ],
   "source": [
    "import plotly.express as px\n",
    "\n",
    "df[\"Review\"] = df[\"Review\"].replace(\"undefined\", None).astype(float)\n",
    "\n",
    "df[\"Charges\"] = df[\"Charges\"].str.extract(r'(\\d+)').astype(float)\n",
    "\n",
    "scatter_data = df[df[\"Review\"].notna()]\n",
    "\n",
    "fig = px.scatter(\n",
    "    scatter_data,\n",
    "    x=\"Charges\",  # Pricing on the X-axis\n",
    "    y=\"Review\",   # Number of reviews on the Y-axis\n",
    "    color=\"Free/Paid/Other\",  # Color points by pricing model\n",
    "    hover_name=\"AI Tool Name\",  # Show AI tool names on hover\n",
    "    title=\"Scatter Plot of Number of Reviews vs. Pricing\",\n",
    "    labels={'Charges': 'Pricing', 'Review': 'Number of Reviews'},\n",
    "    template=\"plotly\",  # Use the default Plotly template\n",
    ")\n",
    "\n",
    "# Customize the appearance\n",
    "fig.update_layout(\n",
    "    xaxis_title=\"Pricing\",  # X-axis label\n",
    "    yaxis_title=\"Number of Reviews\",  # Y-axis label\n",
    "    showlegend=True,  # Display a legend\n",
    "    legend_title=\"Pricing Model\",  # Legend title\n",
    ")\n",
    "\n",
    "# Show the chart\n",
    "fig.show()"
   ]
  },
  {
   "cell_type": "code",
   "execution_count": null,
   "id": "43c62b7d",
   "metadata": {
    "papermill": {
     "duration": 0.018484,
     "end_time": "2023-11-16T07:37:54.020750",
     "exception": false,
     "start_time": "2023-11-16T07:37:54.002266",
     "status": "completed"
    },
    "tags": []
   },
   "outputs": [],
   "source": []
  }
 ],
 "metadata": {
  "kaggle": {
   "accelerator": "none",
   "dataSources": [
    {
     "datasetId": 3707905,
     "sourceId": 6426851,
     "sourceType": "datasetVersion"
    }
   ],
   "dockerImageVersionId": 30558,
   "isGpuEnabled": false,
   "isInternetEnabled": false,
   "language": "python",
   "sourceType": "notebook"
  },
  "kernelspec": {
   "display_name": "Python 3",
   "language": "python",
   "name": "python3"
  },
  "language_info": {
   "codemirror_mode": {
    "name": "ipython",
    "version": 3
   },
   "file_extension": ".py",
   "mimetype": "text/x-python",
   "name": "python",
   "nbconvert_exporter": "python",
   "pygments_lexer": "ipython3",
   "version": "3.10.12"
  },
  "papermill": {
   "default_parameters": {},
   "duration": 14.806401,
   "end_time": "2023-11-16T07:37:54.864230",
   "environment_variables": {},
   "exception": null,
   "input_path": "__notebook__.ipynb",
   "output_path": "__notebook__.ipynb",
   "parameters": {},
   "start_time": "2023-11-16T07:37:40.057829",
   "version": "2.4.0"
  }
 },
 "nbformat": 4,
 "nbformat_minor": 5
}
